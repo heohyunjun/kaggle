{
 "cells": [
  {
   "cell_type": "code",
   "execution_count": 1,
   "id": "7737feec",
   "metadata": {
    "_cell_guid": "b1076dfc-b9ad-4769-8c92-a6c4dae69d19",
    "_uuid": "8f2839f25d086af736a60e9eeb907d3b93b6e0e5",
    "execution": {
     "iopub.execute_input": "2022-08-22T13:31:06.772962Z",
     "iopub.status.busy": "2022-08-22T13:31:06.772468Z",
     "iopub.status.idle": "2022-08-22T13:31:06.787380Z",
     "shell.execute_reply": "2022-08-22T13:31:06.786527Z"
    },
    "papermill": {
     "duration": 0.026754,
     "end_time": "2022-08-22T13:31:06.789953",
     "exception": false,
     "start_time": "2022-08-22T13:31:06.763199",
     "status": "completed"
    },
    "tags": []
   },
   "outputs": [
    {
     "name": "stdout",
     "output_type": "stream",
     "text": [
      "/kaggle/input/nlp-getting-started/sample_submission.csv\n",
      "/kaggle/input/nlp-getting-started/train.csv\n",
      "/kaggle/input/nlp-getting-started/test.csv\n"
     ]
    }
   ],
   "source": [
    "# This Python 3 environment comes with many helpful analytics libraries installed\n",
    "# It is defined by the kaggle/python Docker image: https://github.com/kaggle/docker-python\n",
    "# For example, here's several helpful packages to load\n",
    "\n",
    "import numpy as np # linear algebra\n",
    "import pandas as pd # data processing, CSV file I/O (e.g. pd.read_csv)\n",
    "\n",
    "# Input data files are available in the read-only \"../input/\" directory\n",
    "# For example, running this (by clicking run or pressing Shift+Enter) will list all files under the input directory\n",
    "\n",
    "import os\n",
    "for dirname, _, filenames in os.walk('/kaggle/input'):\n",
    "    for filename in filenames:\n",
    "        print(os.path.join(dirname, filename))\n",
    "\n",
    "# You can write up to 20GB to the current directory (/kaggle/working/) that gets preserved as output when you create a version using \"Save & Run All\" \n",
    "# You can also write temporary files to /kaggle/temp/, but they won't be saved outside of the current session"
   ]
  },
  {
   "cell_type": "code",
   "execution_count": 2,
   "id": "4505bdc1",
   "metadata": {
    "execution": {
     "iopub.execute_input": "2022-08-22T13:31:06.805992Z",
     "iopub.status.busy": "2022-08-22T13:31:06.805040Z",
     "iopub.status.idle": "2022-08-22T13:31:08.144955Z",
     "shell.execute_reply": "2022-08-22T13:31:08.143824Z"
    },
    "papermill": {
     "duration": 1.350925,
     "end_time": "2022-08-22T13:31:08.148056",
     "exception": false,
     "start_time": "2022-08-22T13:31:06.797131",
     "status": "completed"
    },
    "tags": []
   },
   "outputs": [],
   "source": [
    "import numpy as np \n",
    "import pandas as pd \n",
    "from sklearn import feature_extraction, linear_model, model_selection, preprocessing"
   ]
  },
  {
   "cell_type": "code",
   "execution_count": 3,
   "id": "85f4f75b",
   "metadata": {
    "execution": {
     "iopub.execute_input": "2022-08-22T13:31:08.163076Z",
     "iopub.status.busy": "2022-08-22T13:31:08.162688Z",
     "iopub.status.idle": "2022-08-22T13:31:08.238162Z",
     "shell.execute_reply": "2022-08-22T13:31:08.237314Z"
    },
    "papermill": {
     "duration": 0.086044,
     "end_time": "2022-08-22T13:31:08.240875",
     "exception": false,
     "start_time": "2022-08-22T13:31:08.154831",
     "status": "completed"
    },
    "tags": []
   },
   "outputs": [],
   "source": [
    "train_df = pd.read_csv('../input/nlp-getting-started/train.csv')\n",
    "test_df = pd.read_csv('../input/nlp-getting-started/test.csv')"
   ]
  },
  {
   "cell_type": "code",
   "execution_count": 4,
   "id": "7182a06b",
   "metadata": {
    "execution": {
     "iopub.execute_input": "2022-08-22T13:31:08.256452Z",
     "iopub.status.busy": "2022-08-22T13:31:08.255395Z",
     "iopub.status.idle": "2022-08-22T13:31:08.283872Z",
     "shell.execute_reply": "2022-08-22T13:31:08.282856Z"
    },
    "papermill": {
     "duration": 0.038537,
     "end_time": "2022-08-22T13:31:08.286065",
     "exception": false,
     "start_time": "2022-08-22T13:31:08.247528",
     "status": "completed"
    },
    "tags": []
   },
   "outputs": [
    {
     "data": {
      "text/html": [
       "<div>\n",
       "<style scoped>\n",
       "    .dataframe tbody tr th:only-of-type {\n",
       "        vertical-align: middle;\n",
       "    }\n",
       "\n",
       "    .dataframe tbody tr th {\n",
       "        vertical-align: top;\n",
       "    }\n",
       "\n",
       "    .dataframe thead th {\n",
       "        text-align: right;\n",
       "    }\n",
       "</style>\n",
       "<table border=\"1\" class=\"dataframe\">\n",
       "  <thead>\n",
       "    <tr style=\"text-align: right;\">\n",
       "      <th></th>\n",
       "      <th>id</th>\n",
       "      <th>keyword</th>\n",
       "      <th>location</th>\n",
       "      <th>text</th>\n",
       "      <th>target</th>\n",
       "    </tr>\n",
       "  </thead>\n",
       "  <tbody>\n",
       "    <tr>\n",
       "      <th>0</th>\n",
       "      <td>1</td>\n",
       "      <td>NaN</td>\n",
       "      <td>NaN</td>\n",
       "      <td>Our Deeds are the Reason of this #earthquake M...</td>\n",
       "      <td>1</td>\n",
       "    </tr>\n",
       "    <tr>\n",
       "      <th>1</th>\n",
       "      <td>4</td>\n",
       "      <td>NaN</td>\n",
       "      <td>NaN</td>\n",
       "      <td>Forest fire near La Ronge Sask. Canada</td>\n",
       "      <td>1</td>\n",
       "    </tr>\n",
       "    <tr>\n",
       "      <th>2</th>\n",
       "      <td>5</td>\n",
       "      <td>NaN</td>\n",
       "      <td>NaN</td>\n",
       "      <td>All residents asked to 'shelter in place' are ...</td>\n",
       "      <td>1</td>\n",
       "    </tr>\n",
       "    <tr>\n",
       "      <th>3</th>\n",
       "      <td>6</td>\n",
       "      <td>NaN</td>\n",
       "      <td>NaN</td>\n",
       "      <td>13,000 people receive #wildfires evacuation or...</td>\n",
       "      <td>1</td>\n",
       "    </tr>\n",
       "    <tr>\n",
       "      <th>4</th>\n",
       "      <td>7</td>\n",
       "      <td>NaN</td>\n",
       "      <td>NaN</td>\n",
       "      <td>Just got sent this photo from Ruby #Alaska as ...</td>\n",
       "      <td>1</td>\n",
       "    </tr>\n",
       "    <tr>\n",
       "      <th>...</th>\n",
       "      <td>...</td>\n",
       "      <td>...</td>\n",
       "      <td>...</td>\n",
       "      <td>...</td>\n",
       "      <td>...</td>\n",
       "    </tr>\n",
       "    <tr>\n",
       "      <th>7608</th>\n",
       "      <td>10869</td>\n",
       "      <td>NaN</td>\n",
       "      <td>NaN</td>\n",
       "      <td>Two giant cranes holding a bridge collapse int...</td>\n",
       "      <td>1</td>\n",
       "    </tr>\n",
       "    <tr>\n",
       "      <th>7609</th>\n",
       "      <td>10870</td>\n",
       "      <td>NaN</td>\n",
       "      <td>NaN</td>\n",
       "      <td>@aria_ahrary @TheTawniest The out of control w...</td>\n",
       "      <td>1</td>\n",
       "    </tr>\n",
       "    <tr>\n",
       "      <th>7610</th>\n",
       "      <td>10871</td>\n",
       "      <td>NaN</td>\n",
       "      <td>NaN</td>\n",
       "      <td>M1.94 [01:04 UTC]?5km S of Volcano Hawaii. htt...</td>\n",
       "      <td>1</td>\n",
       "    </tr>\n",
       "    <tr>\n",
       "      <th>7611</th>\n",
       "      <td>10872</td>\n",
       "      <td>NaN</td>\n",
       "      <td>NaN</td>\n",
       "      <td>Police investigating after an e-bike collided ...</td>\n",
       "      <td>1</td>\n",
       "    </tr>\n",
       "    <tr>\n",
       "      <th>7612</th>\n",
       "      <td>10873</td>\n",
       "      <td>NaN</td>\n",
       "      <td>NaN</td>\n",
       "      <td>The Latest: More Homes Razed by Northern Calif...</td>\n",
       "      <td>1</td>\n",
       "    </tr>\n",
       "  </tbody>\n",
       "</table>\n",
       "<p>7613 rows × 5 columns</p>\n",
       "</div>"
      ],
      "text/plain": [
       "         id keyword location  \\\n",
       "0         1     NaN      NaN   \n",
       "1         4     NaN      NaN   \n",
       "2         5     NaN      NaN   \n",
       "3         6     NaN      NaN   \n",
       "4         7     NaN      NaN   \n",
       "...     ...     ...      ...   \n",
       "7608  10869     NaN      NaN   \n",
       "7609  10870     NaN      NaN   \n",
       "7610  10871     NaN      NaN   \n",
       "7611  10872     NaN      NaN   \n",
       "7612  10873     NaN      NaN   \n",
       "\n",
       "                                                   text  target  \n",
       "0     Our Deeds are the Reason of this #earthquake M...       1  \n",
       "1                Forest fire near La Ronge Sask. Canada       1  \n",
       "2     All residents asked to 'shelter in place' are ...       1  \n",
       "3     13,000 people receive #wildfires evacuation or...       1  \n",
       "4     Just got sent this photo from Ruby #Alaska as ...       1  \n",
       "...                                                 ...     ...  \n",
       "7608  Two giant cranes holding a bridge collapse int...       1  \n",
       "7609  @aria_ahrary @TheTawniest The out of control w...       1  \n",
       "7610  M1.94 [01:04 UTC]?5km S of Volcano Hawaii. htt...       1  \n",
       "7611  Police investigating after an e-bike collided ...       1  \n",
       "7612  The Latest: More Homes Razed by Northern Calif...       1  \n",
       "\n",
       "[7613 rows x 5 columns]"
      ]
     },
     "execution_count": 4,
     "metadata": {},
     "output_type": "execute_result"
    }
   ],
   "source": [
    "train_df"
   ]
  },
  {
   "cell_type": "code",
   "execution_count": 5,
   "id": "99ce3ed1",
   "metadata": {
    "execution": {
     "iopub.execute_input": "2022-08-22T13:31:08.301590Z",
     "iopub.status.busy": "2022-08-22T13:31:08.301145Z",
     "iopub.status.idle": "2022-08-22T13:31:08.314065Z",
     "shell.execute_reply": "2022-08-22T13:31:08.312845Z"
    },
    "papermill": {
     "duration": 0.023913,
     "end_time": "2022-08-22T13:31:08.316725",
     "exception": false,
     "start_time": "2022-08-22T13:31:08.292812",
     "status": "completed"
    },
    "tags": []
   },
   "outputs": [
    {
     "data": {
      "text/plain": [
       "0       False\n",
       "1       False\n",
       "2       False\n",
       "3       False\n",
       "4       False\n",
       "        ...  \n",
       "7608    False\n",
       "7609    False\n",
       "7610    False\n",
       "7611    False\n",
       "7612    False\n",
       "Name: target, Length: 7613, dtype: bool"
      ]
     },
     "execution_count": 5,
     "metadata": {},
     "output_type": "execute_result"
    }
   ],
   "source": [
    "train_df['target']==0"
   ]
  },
  {
   "cell_type": "code",
   "execution_count": 6,
   "id": "d80acc84",
   "metadata": {
    "execution": {
     "iopub.execute_input": "2022-08-22T13:31:08.332721Z",
     "iopub.status.busy": "2022-08-22T13:31:08.331578Z",
     "iopub.status.idle": "2022-08-22T13:31:08.341881Z",
     "shell.execute_reply": "2022-08-22T13:31:08.340694Z"
    },
    "papermill": {
     "duration": 0.020797,
     "end_time": "2022-08-22T13:31:08.344313",
     "exception": false,
     "start_time": "2022-08-22T13:31:08.323516",
     "status": "completed"
    },
    "tags": []
   },
   "outputs": [
    {
     "data": {
      "text/plain": [
       "array([\"What's up man?\", 'I love fruits', 'Summer is lovely', ...,\n",
       "       'These boxes are ready to explode! Exploding Kittens finally arrived! gameofkittens #explodingkittens\\x89Û_ https://t.co/TFGrAyuDC5',\n",
       "       'Sirens everywhere!',\n",
       "       'I just heard a really loud bang and everyone is asleep great'],\n",
       "      dtype=object)"
      ]
     },
     "execution_count": 6,
     "metadata": {},
     "output_type": "execute_result"
    }
   ],
   "source": [
    "train_df[train_df['target']==0]['text'].values"
   ]
  },
  {
   "cell_type": "code",
   "execution_count": 7,
   "id": "28edebf5",
   "metadata": {
    "execution": {
     "iopub.execute_input": "2022-08-22T13:31:08.360827Z",
     "iopub.status.busy": "2022-08-22T13:31:08.359753Z",
     "iopub.status.idle": "2022-08-22T13:31:08.368536Z",
     "shell.execute_reply": "2022-08-22T13:31:08.367580Z"
    },
    "papermill": {
     "duration": 0.019287,
     "end_time": "2022-08-22T13:31:08.370848",
     "exception": false,
     "start_time": "2022-08-22T13:31:08.351561",
     "status": "completed"
    },
    "tags": []
   },
   "outputs": [
    {
     "data": {
      "text/plain": [
       "array([\"What's up man?\", 'I love fruits', 'Summer is lovely', ...,\n",
       "       'These boxes are ready to explode! Exploding Kittens finally arrived! gameofkittens #explodingkittens\\x89Û_ https://t.co/TFGrAyuDC5',\n",
       "       'Sirens everywhere!',\n",
       "       'I just heard a really loud bang and everyone is asleep great'],\n",
       "      dtype=object)"
      ]
     },
     "execution_count": 7,
     "metadata": {},
     "output_type": "execute_result"
    }
   ],
   "source": [
    "train_df[train_df['target']==0]['text'].values"
   ]
  },
  {
   "cell_type": "code",
   "execution_count": 8,
   "id": "7a6b79ae",
   "metadata": {
    "execution": {
     "iopub.execute_input": "2022-08-22T13:31:08.387303Z",
     "iopub.status.busy": "2022-08-22T13:31:08.386553Z",
     "iopub.status.idle": "2022-08-22T13:31:08.391122Z",
     "shell.execute_reply": "2022-08-22T13:31:08.390312Z"
    },
    "papermill": {
     "duration": 0.015186,
     "end_time": "2022-08-22T13:31:08.393306",
     "exception": false,
     "start_time": "2022-08-22T13:31:08.378120",
     "status": "completed"
    },
    "tags": []
   },
   "outputs": [],
   "source": [
    "from sklearn.feature_extraction.text import CountVectorizer"
   ]
  },
  {
   "cell_type": "code",
   "execution_count": 9,
   "id": "63e67c08",
   "metadata": {
    "execution": {
     "iopub.execute_input": "2022-08-22T13:31:08.409374Z",
     "iopub.status.busy": "2022-08-22T13:31:08.408628Z",
     "iopub.status.idle": "2022-08-22T13:31:08.412891Z",
     "shell.execute_reply": "2022-08-22T13:31:08.412092Z"
    },
    "papermill": {
     "duration": 0.014826,
     "end_time": "2022-08-22T13:31:08.415148",
     "exception": false,
     "start_time": "2022-08-22T13:31:08.400322",
     "status": "completed"
    },
    "tags": []
   },
   "outputs": [],
   "source": [
    "count_vectorizer = CountVectorizer()"
   ]
  },
  {
   "cell_type": "code",
   "execution_count": 10,
   "id": "735baddf",
   "metadata": {
    "execution": {
     "iopub.execute_input": "2022-08-22T13:31:08.430824Z",
     "iopub.status.busy": "2022-08-22T13:31:08.430401Z",
     "iopub.status.idle": "2022-08-22T13:31:08.438082Z",
     "shell.execute_reply": "2022-08-22T13:31:08.437303Z"
    },
    "papermill": {
     "duration": 0.017888,
     "end_time": "2022-08-22T13:31:08.440082",
     "exception": false,
     "start_time": "2022-08-22T13:31:08.422194",
     "status": "completed"
    },
    "tags": []
   },
   "outputs": [
    {
     "data": {
      "text/plain": [
       "0    Our Deeds are the Reason of this #earthquake M...\n",
       "1               Forest fire near La Ronge Sask. Canada\n",
       "2    All residents asked to 'shelter in place' are ...\n",
       "3    13,000 people receive #wildfires evacuation or...\n",
       "4    Just got sent this photo from Ruby #Alaska as ...\n",
       "Name: text, dtype: object"
      ]
     },
     "execution_count": 10,
     "metadata": {},
     "output_type": "execute_result"
    }
   ],
   "source": [
    "train_df['text'][:5]"
   ]
  },
  {
   "cell_type": "code",
   "execution_count": 11,
   "id": "96651293",
   "metadata": {
    "execution": {
     "iopub.execute_input": "2022-08-22T13:31:08.457225Z",
     "iopub.status.busy": "2022-08-22T13:31:08.456225Z",
     "iopub.status.idle": "2022-08-22T13:31:08.665653Z",
     "shell.execute_reply": "2022-08-22T13:31:08.663869Z"
    },
    "papermill": {
     "duration": 0.221665,
     "end_time": "2022-08-22T13:31:08.669040",
     "exception": false,
     "start_time": "2022-08-22T13:31:08.447375",
     "status": "completed"
    },
    "tags": []
   },
   "outputs": [],
   "source": [
    "train_vectors = count_vectorizer.fit_transform(train_df['text'])"
   ]
  },
  {
   "cell_type": "code",
   "execution_count": 12,
   "id": "cf58aff3",
   "metadata": {
    "execution": {
     "iopub.execute_input": "2022-08-22T13:31:08.685168Z",
     "iopub.status.busy": "2022-08-22T13:31:08.684746Z",
     "iopub.status.idle": "2022-08-22T13:31:08.692957Z",
     "shell.execute_reply": "2022-08-22T13:31:08.691667Z"
    },
    "papermill": {
     "duration": 0.019272,
     "end_time": "2022-08-22T13:31:08.695654",
     "exception": false,
     "start_time": "2022-08-22T13:31:08.676382",
     "status": "completed"
    },
    "tags": []
   },
   "outputs": [
    {
     "data": {
      "text/plain": [
       "matrix([[0, 0, 0, ..., 0, 0, 0]])"
      ]
     },
     "execution_count": 12,
     "metadata": {},
     "output_type": "execute_result"
    }
   ],
   "source": [
    "train_vectors[0].todense()"
   ]
  },
  {
   "cell_type": "code",
   "execution_count": 13,
   "id": "4a7f894a",
   "metadata": {
    "execution": {
     "iopub.execute_input": "2022-08-22T13:31:08.711725Z",
     "iopub.status.busy": "2022-08-22T13:31:08.711336Z",
     "iopub.status.idle": "2022-08-22T13:31:08.719430Z",
     "shell.execute_reply": "2022-08-22T13:31:08.718260Z"
    },
    "papermill": {
     "duration": 0.019022,
     "end_time": "2022-08-22T13:31:08.721849",
     "exception": false,
     "start_time": "2022-08-22T13:31:08.702827",
     "status": "completed"
    },
    "tags": []
   },
   "outputs": [
    {
     "data": {
      "text/plain": [
       "(1, 21637)"
      ]
     },
     "execution_count": 13,
     "metadata": {},
     "output_type": "execute_result"
    }
   ],
   "source": [
    "train_vectors[0].todense().shape"
   ]
  },
  {
   "cell_type": "code",
   "execution_count": 14,
   "id": "ed9f8e83",
   "metadata": {
    "execution": {
     "iopub.execute_input": "2022-08-22T13:31:08.739852Z",
     "iopub.status.busy": "2022-08-22T13:31:08.739463Z",
     "iopub.status.idle": "2022-08-22T13:31:09.032892Z",
     "shell.execute_reply": "2022-08-22T13:31:09.031282Z"
    },
    "papermill": {
     "duration": 0.305847,
     "end_time": "2022-08-22T13:31:09.036311",
     "exception": false,
     "start_time": "2022-08-22T13:31:08.730464",
     "status": "completed"
    },
    "tags": []
   },
   "outputs": [
    {
     "data": {
      "text/plain": [
       "array([[0, 0, 0, ..., 0, 0, 0],\n",
       "       [0, 0, 0, ..., 0, 0, 0],\n",
       "       [0, 0, 0, ..., 0, 0, 0],\n",
       "       ...,\n",
       "       [0, 0, 0, ..., 0, 0, 0],\n",
       "       [0, 0, 0, ..., 0, 0, 0],\n",
       "       [0, 0, 0, ..., 0, 0, 0]])"
      ]
     },
     "execution_count": 14,
     "metadata": {},
     "output_type": "execute_result"
    }
   ],
   "source": [
    "train_vectors.toarray()"
   ]
  },
  {
   "cell_type": "markdown",
   "id": "1ca59ba8",
   "metadata": {
    "papermill": {
     "duration": 0.008116,
     "end_time": "2022-08-22T13:31:09.051934",
     "exception": false,
     "start_time": "2022-08-22T13:31:09.043818",
     "status": "completed"
    },
    "tags": []
   },
   "source": [
    "## test도 변환"
   ]
  },
  {
   "cell_type": "code",
   "execution_count": 15,
   "id": "6861d006",
   "metadata": {
    "execution": {
     "iopub.execute_input": "2022-08-22T13:31:09.068720Z",
     "iopub.status.busy": "2022-08-22T13:31:09.068302Z",
     "iopub.status.idle": "2022-08-22T13:31:09.135679Z",
     "shell.execute_reply": "2022-08-22T13:31:09.134145Z"
    },
    "papermill": {
     "duration": 0.079013,
     "end_time": "2022-08-22T13:31:09.138622",
     "exception": false,
     "start_time": "2022-08-22T13:31:09.059609",
     "status": "completed"
    },
    "tags": []
   },
   "outputs": [
    {
     "data": {
      "text/plain": [
       "<3263x21637 sparse matrix of type '<class 'numpy.int64'>'\n",
       "\twith 41511 stored elements in Compressed Sparse Row format>"
      ]
     },
     "execution_count": 15,
     "metadata": {},
     "output_type": "execute_result"
    }
   ],
   "source": [
    "test_vectors = count_vectorizer.transform(test_df[\"text\"])\n",
    "test_vectors"
   ]
  },
  {
   "cell_type": "code",
   "execution_count": 16,
   "id": "0dcbda1f",
   "metadata": {
    "execution": {
     "iopub.execute_input": "2022-08-22T13:31:09.155920Z",
     "iopub.status.busy": "2022-08-22T13:31:09.155511Z",
     "iopub.status.idle": "2022-08-22T13:31:09.161056Z",
     "shell.execute_reply": "2022-08-22T13:31:09.159500Z"
    },
    "papermill": {
     "duration": 0.017102,
     "end_time": "2022-08-22T13:31:09.163606",
     "exception": false,
     "start_time": "2022-08-22T13:31:09.146504",
     "status": "completed"
    },
    "tags": []
   },
   "outputs": [],
   "source": [
    "clf = linear_model.RidgeClassifier()"
   ]
  },
  {
   "cell_type": "code",
   "execution_count": 17,
   "id": "aa0912b1",
   "metadata": {
    "execution": {
     "iopub.execute_input": "2022-08-22T13:31:09.181445Z",
     "iopub.status.busy": "2022-08-22T13:31:09.181023Z",
     "iopub.status.idle": "2022-08-22T13:31:09.771971Z",
     "shell.execute_reply": "2022-08-22T13:31:09.770300Z"
    },
    "papermill": {
     "duration": 0.606155,
     "end_time": "2022-08-22T13:31:09.777973",
     "exception": false,
     "start_time": "2022-08-22T13:31:09.171818",
     "status": "completed"
    },
    "tags": []
   },
   "outputs": [
    {
     "data": {
      "text/plain": [
       "array([0.59421842, 0.56498283, 0.64113893])"
      ]
     },
     "execution_count": 17,
     "metadata": {},
     "output_type": "execute_result"
    }
   ],
   "source": [
    "scores = model_selection.cross_val_score(clf, train_vectors, train_df[\"target\"], cv=3, scoring=\"f1\")\n",
    "scores"
   ]
  },
  {
   "cell_type": "code",
   "execution_count": 18,
   "id": "e4be5a6e",
   "metadata": {
    "execution": {
     "iopub.execute_input": "2022-08-22T13:31:09.821924Z",
     "iopub.status.busy": "2022-08-22T13:31:09.821030Z",
     "iopub.status.idle": "2022-08-22T13:31:10.134577Z",
     "shell.execute_reply": "2022-08-22T13:31:10.132980Z"
    },
    "papermill": {
     "duration": 0.340491,
     "end_time": "2022-08-22T13:31:10.139524",
     "exception": false,
     "start_time": "2022-08-22T13:31:09.799033",
     "status": "completed"
    },
    "tags": []
   },
   "outputs": [
    {
     "data": {
      "text/plain": [
       "RidgeClassifier()"
      ]
     },
     "execution_count": 18,
     "metadata": {},
     "output_type": "execute_result"
    }
   ],
   "source": [
    "clf.fit(train_vectors, train_df[\"target\"])"
   ]
  },
  {
   "cell_type": "code",
   "execution_count": 19,
   "id": "31cbc62b",
   "metadata": {
    "execution": {
     "iopub.execute_input": "2022-08-22T13:31:10.182746Z",
     "iopub.status.busy": "2022-08-22T13:31:10.181850Z",
     "iopub.status.idle": "2022-08-22T13:31:10.202523Z",
     "shell.execute_reply": "2022-08-22T13:31:10.200883Z"
    },
    "papermill": {
     "duration": 0.047399,
     "end_time": "2022-08-22T13:31:10.207771",
     "exception": false,
     "start_time": "2022-08-22T13:31:10.160372",
     "status": "completed"
    },
    "tags": []
   },
   "outputs": [],
   "source": [
    "sample_submission = pd.read_csv(\"/kaggle/input/nlp-getting-started/sample_submission.csv\")"
   ]
  },
  {
   "cell_type": "code",
   "execution_count": 20,
   "id": "0eba360a",
   "metadata": {
    "execution": {
     "iopub.execute_input": "2022-08-22T13:31:10.246905Z",
     "iopub.status.busy": "2022-08-22T13:31:10.246306Z",
     "iopub.status.idle": "2022-08-22T13:31:10.261808Z",
     "shell.execute_reply": "2022-08-22T13:31:10.260899Z"
    },
    "papermill": {
     "duration": 0.036435,
     "end_time": "2022-08-22T13:31:10.264518",
     "exception": false,
     "start_time": "2022-08-22T13:31:10.228083",
     "status": "completed"
    },
    "tags": []
   },
   "outputs": [
    {
     "data": {
      "text/html": [
       "<div>\n",
       "<style scoped>\n",
       "    .dataframe tbody tr th:only-of-type {\n",
       "        vertical-align: middle;\n",
       "    }\n",
       "\n",
       "    .dataframe tbody tr th {\n",
       "        vertical-align: top;\n",
       "    }\n",
       "\n",
       "    .dataframe thead th {\n",
       "        text-align: right;\n",
       "    }\n",
       "</style>\n",
       "<table border=\"1\" class=\"dataframe\">\n",
       "  <thead>\n",
       "    <tr style=\"text-align: right;\">\n",
       "      <th></th>\n",
       "      <th>id</th>\n",
       "      <th>target</th>\n",
       "    </tr>\n",
       "  </thead>\n",
       "  <tbody>\n",
       "    <tr>\n",
       "      <th>0</th>\n",
       "      <td>0</td>\n",
       "      <td>0</td>\n",
       "    </tr>\n",
       "    <tr>\n",
       "      <th>1</th>\n",
       "      <td>2</td>\n",
       "      <td>0</td>\n",
       "    </tr>\n",
       "    <tr>\n",
       "      <th>2</th>\n",
       "      <td>3</td>\n",
       "      <td>0</td>\n",
       "    </tr>\n",
       "    <tr>\n",
       "      <th>3</th>\n",
       "      <td>9</td>\n",
       "      <td>0</td>\n",
       "    </tr>\n",
       "    <tr>\n",
       "      <th>4</th>\n",
       "      <td>11</td>\n",
       "      <td>0</td>\n",
       "    </tr>\n",
       "    <tr>\n",
       "      <th>...</th>\n",
       "      <td>...</td>\n",
       "      <td>...</td>\n",
       "    </tr>\n",
       "    <tr>\n",
       "      <th>3258</th>\n",
       "      <td>10861</td>\n",
       "      <td>0</td>\n",
       "    </tr>\n",
       "    <tr>\n",
       "      <th>3259</th>\n",
       "      <td>10865</td>\n",
       "      <td>0</td>\n",
       "    </tr>\n",
       "    <tr>\n",
       "      <th>3260</th>\n",
       "      <td>10868</td>\n",
       "      <td>0</td>\n",
       "    </tr>\n",
       "    <tr>\n",
       "      <th>3261</th>\n",
       "      <td>10874</td>\n",
       "      <td>0</td>\n",
       "    </tr>\n",
       "    <tr>\n",
       "      <th>3262</th>\n",
       "      <td>10875</td>\n",
       "      <td>0</td>\n",
       "    </tr>\n",
       "  </tbody>\n",
       "</table>\n",
       "<p>3263 rows × 2 columns</p>\n",
       "</div>"
      ],
      "text/plain": [
       "         id  target\n",
       "0         0       0\n",
       "1         2       0\n",
       "2         3       0\n",
       "3         9       0\n",
       "4        11       0\n",
       "...     ...     ...\n",
       "3258  10861       0\n",
       "3259  10865       0\n",
       "3260  10868       0\n",
       "3261  10874       0\n",
       "3262  10875       0\n",
       "\n",
       "[3263 rows x 2 columns]"
      ]
     },
     "execution_count": 20,
     "metadata": {},
     "output_type": "execute_result"
    }
   ],
   "source": [
    "sample_submission"
   ]
  },
  {
   "cell_type": "code",
   "execution_count": 21,
   "id": "70c1aa86",
   "metadata": {
    "execution": {
     "iopub.execute_input": "2022-08-22T13:31:10.284148Z",
     "iopub.status.busy": "2022-08-22T13:31:10.283325Z",
     "iopub.status.idle": "2022-08-22T13:31:10.289614Z",
     "shell.execute_reply": "2022-08-22T13:31:10.288666Z"
    },
    "papermill": {
     "duration": 0.019403,
     "end_time": "2022-08-22T13:31:10.292100",
     "exception": false,
     "start_time": "2022-08-22T13:31:10.272697",
     "status": "completed"
    },
    "tags": []
   },
   "outputs": [],
   "source": [
    "sample_submission[\"target\"] = clf.predict(test_vectors)"
   ]
  },
  {
   "cell_type": "code",
   "execution_count": 22,
   "id": "f6eeefa4",
   "metadata": {
    "execution": {
     "iopub.execute_input": "2022-08-22T13:31:10.310469Z",
     "iopub.status.busy": "2022-08-22T13:31:10.310039Z",
     "iopub.status.idle": "2022-08-22T13:31:10.321199Z",
     "shell.execute_reply": "2022-08-22T13:31:10.320316Z"
    },
    "papermill": {
     "duration": 0.023612,
     "end_time": "2022-08-22T13:31:10.323811",
     "exception": false,
     "start_time": "2022-08-22T13:31:10.300199",
     "status": "completed"
    },
    "tags": []
   },
   "outputs": [
    {
     "data": {
      "text/html": [
       "<div>\n",
       "<style scoped>\n",
       "    .dataframe tbody tr th:only-of-type {\n",
       "        vertical-align: middle;\n",
       "    }\n",
       "\n",
       "    .dataframe tbody tr th {\n",
       "        vertical-align: top;\n",
       "    }\n",
       "\n",
       "    .dataframe thead th {\n",
       "        text-align: right;\n",
       "    }\n",
       "</style>\n",
       "<table border=\"1\" class=\"dataframe\">\n",
       "  <thead>\n",
       "    <tr style=\"text-align: right;\">\n",
       "      <th></th>\n",
       "      <th>id</th>\n",
       "      <th>target</th>\n",
       "    </tr>\n",
       "  </thead>\n",
       "  <tbody>\n",
       "    <tr>\n",
       "      <th>0</th>\n",
       "      <td>0</td>\n",
       "      <td>0</td>\n",
       "    </tr>\n",
       "    <tr>\n",
       "      <th>1</th>\n",
       "      <td>2</td>\n",
       "      <td>1</td>\n",
       "    </tr>\n",
       "    <tr>\n",
       "      <th>2</th>\n",
       "      <td>3</td>\n",
       "      <td>1</td>\n",
       "    </tr>\n",
       "    <tr>\n",
       "      <th>3</th>\n",
       "      <td>9</td>\n",
       "      <td>0</td>\n",
       "    </tr>\n",
       "    <tr>\n",
       "      <th>4</th>\n",
       "      <td>11</td>\n",
       "      <td>1</td>\n",
       "    </tr>\n",
       "    <tr>\n",
       "      <th>...</th>\n",
       "      <td>...</td>\n",
       "      <td>...</td>\n",
       "    </tr>\n",
       "    <tr>\n",
       "      <th>3258</th>\n",
       "      <td>10861</td>\n",
       "      <td>1</td>\n",
       "    </tr>\n",
       "    <tr>\n",
       "      <th>3259</th>\n",
       "      <td>10865</td>\n",
       "      <td>1</td>\n",
       "    </tr>\n",
       "    <tr>\n",
       "      <th>3260</th>\n",
       "      <td>10868</td>\n",
       "      <td>1</td>\n",
       "    </tr>\n",
       "    <tr>\n",
       "      <th>3261</th>\n",
       "      <td>10874</td>\n",
       "      <td>1</td>\n",
       "    </tr>\n",
       "    <tr>\n",
       "      <th>3262</th>\n",
       "      <td>10875</td>\n",
       "      <td>0</td>\n",
       "    </tr>\n",
       "  </tbody>\n",
       "</table>\n",
       "<p>3263 rows × 2 columns</p>\n",
       "</div>"
      ],
      "text/plain": [
       "         id  target\n",
       "0         0       0\n",
       "1         2       1\n",
       "2         3       1\n",
       "3         9       0\n",
       "4        11       1\n",
       "...     ...     ...\n",
       "3258  10861       1\n",
       "3259  10865       1\n",
       "3260  10868       1\n",
       "3261  10874       1\n",
       "3262  10875       0\n",
       "\n",
       "[3263 rows x 2 columns]"
      ]
     },
     "execution_count": 22,
     "metadata": {},
     "output_type": "execute_result"
    }
   ],
   "source": [
    "sample_submission"
   ]
  },
  {
   "cell_type": "code",
   "execution_count": 23,
   "id": "a61e92a7",
   "metadata": {
    "execution": {
     "iopub.execute_input": "2022-08-22T13:31:10.342641Z",
     "iopub.status.busy": "2022-08-22T13:31:10.342160Z",
     "iopub.status.idle": "2022-08-22T13:31:10.353730Z",
     "shell.execute_reply": "2022-08-22T13:31:10.352709Z"
    },
    "papermill": {
     "duration": 0.02459,
     "end_time": "2022-08-22T13:31:10.356742",
     "exception": false,
     "start_time": "2022-08-22T13:31:10.332152",
     "status": "completed"
    },
    "tags": []
   },
   "outputs": [],
   "source": [
    "sample_submission.to_csv(\"submission.csv\", index=False)\n"
   ]
  },
  {
   "cell_type": "code",
   "execution_count": null,
   "id": "2106f960",
   "metadata": {
    "papermill": {
     "duration": 0.008111,
     "end_time": "2022-08-22T13:31:10.373210",
     "exception": false,
     "start_time": "2022-08-22T13:31:10.365099",
     "status": "completed"
    },
    "tags": []
   },
   "outputs": [],
   "source": []
  }
 ],
 "metadata": {
  "kernelspec": {
   "display_name": "Python 3",
   "language": "python",
   "name": "python3"
  },
  "language_info": {
   "codemirror_mode": {
    "name": "ipython",
    "version": 3
   },
   "file_extension": ".py",
   "mimetype": "text/x-python",
   "name": "python",
   "nbconvert_exporter": "python",
   "pygments_lexer": "ipython3",
   "version": "3.7.12"
  },
  "papermill": {
   "default_parameters": {},
   "duration": 14.421677,
   "end_time": "2022-08-22T13:31:11.204024",
   "environment_variables": {},
   "exception": null,
   "input_path": "__notebook__.ipynb",
   "output_path": "__notebook__.ipynb",
   "parameters": {},
   "start_time": "2022-08-22T13:30:56.782347",
   "version": "2.3.4"
  }
 },
 "nbformat": 4,
 "nbformat_minor": 5
}

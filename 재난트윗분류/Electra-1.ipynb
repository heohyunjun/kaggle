{
 "cells": [
  {
   "cell_type": "markdown",
   "metadata": {
    "papermill": {
     "duration": 0.032033,
     "end_time": "2022-08-28T07:15:04.900507",
     "exception": false,
     "start_time": "2022-08-28T07:15:04.868474",
     "status": "completed"
    },
    "tags": []
   },
   "source": [
    "**The main aim of this notebook is overview of Electra base with NLP Disaster Tweets**"
   ]
  },
  {
   "cell_type": "code",
   "execution_count": 1,
   "metadata": {
    "_cell_guid": "b1076dfc-b9ad-4769-8c92-a6c4dae69d19",
    "_uuid": "8f2839f25d086af736a60e9eeb907d3b93b6e0e5",
    "execution": {
     "iopub.execute_input": "2022-08-28T07:15:04.966050Z",
     "iopub.status.busy": "2022-08-28T07:15:04.965271Z",
     "iopub.status.idle": "2022-08-28T07:15:04.973716Z",
     "shell.execute_reply": "2022-08-28T07:15:04.974163Z",
     "shell.execute_reply.started": "2022-08-28T05:24:23.521325Z"
    },
    "papermill": {
     "duration": 0.04372,
     "end_time": "2022-08-28T07:15:04.974328",
     "exception": false,
     "start_time": "2022-08-28T07:15:04.930608",
     "status": "completed"
    },
    "tags": []
   },
   "outputs": [
    {
     "name": "stdout",
     "output_type": "stream",
     "text": [
      "/kaggle/input/nlp-getting-started/sample_submission.csv\n",
      "/kaggle/input/nlp-getting-started/train.csv\n",
      "/kaggle/input/nlp-getting-started/test.csv\n",
      "/kaggle/input/disasters-on-social-media/socialmedia-disaster-tweets-DFE.csv\n"
     ]
    }
   ],
   "source": [
    "# This Python 3 environment comes with many helpful analytics libraries installed\n",
    "# It is defined by the kaggle/python Docker image: https://github.com/kaggle/docker-python\n",
    "# For example, here's several helpful packages to load\n",
    "\n",
    "import numpy as np # linear algebra\n",
    "import pandas as pd # data processing, CSV file I/O (e.g. pd.read_csv)\n",
    "\n",
    "# Input data files are available in the read-only \"../input/\" directory\n",
    "# For example, running this (by clicking run or pressing Shift+Enter) will list all files under the input directory\n",
    "\n",
    "import os\n",
    "for dirname, _, filenames in os.walk('/kaggle/input'):\n",
    "    for filename in filenames:\n",
    "        print(os.path.join(dirname, filename))\n",
    "\n",
    "# You can write up to 5GB to the current directory (/kaggle/working/) that gets preserved as output when you create a version using \"Save & Run All\" \n",
    "# You can also write temporary files to /kaggle/temp/, but they won't be saved outside of the current session"
   ]
  },
  {
   "cell_type": "markdown",
   "metadata": {
    "papermill": {
     "duration": 0.02937,
     "end_time": "2022-08-28T07:15:05.033616",
     "exception": false,
     "start_time": "2022-08-28T07:15:05.004246",
     "status": "completed"
    },
    "tags": []
   },
   "source": [
    "Just to submit perfect score :)"
   ]
  },
  {
   "cell_type": "code",
   "execution_count": 2,
   "metadata": {
    "execution": {
     "iopub.execute_input": "2022-08-28T07:15:05.099486Z",
     "iopub.status.busy": "2022-08-28T07:15:05.098935Z",
     "iopub.status.idle": "2022-08-28T07:15:06.577489Z",
     "shell.execute_reply": "2022-08-28T07:15:06.576571Z",
     "shell.execute_reply.started": "2022-08-28T05:24:24.115017Z"
    },
    "papermill": {
     "duration": 1.513759,
     "end_time": "2022-08-28T07:15:06.577603",
     "exception": false,
     "start_time": "2022-08-28T07:15:05.063844",
     "status": "completed"
    },
    "tags": []
   },
   "outputs": [
    {
     "name": "stdout",
     "output_type": "stream",
     "text": [
      "GPU 확인 Tesla P100-PCIE-16GB\n"
     ]
    }
   ],
   "source": [
    "import torch\n",
    "if torch.cuda.is_available():\n",
    "    device = torch.device('cuda')\n",
    "    print(\"GPU 확인\", torch.cuda.get_device_name(0))\n",
    "else:\n",
    "    print(\"GPU 없음\")\n",
    "    device = torch.device('cpu')"
   ]
  },
  {
   "cell_type": "code",
   "execution_count": 3,
   "metadata": {
    "execution": {
     "iopub.execute_input": "2022-08-28T07:15:06.648267Z",
     "iopub.status.busy": "2022-08-28T07:15:06.647700Z",
     "iopub.status.idle": "2022-08-28T07:15:06.711661Z",
     "shell.execute_reply": "2022-08-28T07:15:06.710823Z",
     "shell.execute_reply.started": "2022-08-28T05:24:25.451533Z"
    },
    "papermill": {
     "duration": 0.104198,
     "end_time": "2022-08-28T07:15:06.711775",
     "exception": false,
     "start_time": "2022-08-28T07:15:06.607577",
     "status": "completed"
    },
    "tags": []
   },
   "outputs": [],
   "source": [
    "df_train = pd.read_csv('../input/nlp-getting-started/train.csv')\n",
    "df_test = pd.read_csv('../input/nlp-getting-started/test.csv')"
   ]
  },
  {
   "cell_type": "code",
   "execution_count": 4,
   "metadata": {
    "execution": {
     "iopub.execute_input": "2022-08-28T07:15:06.783720Z",
     "iopub.status.busy": "2022-08-28T07:15:06.783194Z",
     "iopub.status.idle": "2022-08-28T07:15:06.791472Z",
     "shell.execute_reply": "2022-08-28T07:15:06.791964Z",
     "shell.execute_reply.started": "2022-08-28T05:24:25.509628Z"
    },
    "papermill": {
     "duration": 0.049957,
     "end_time": "2022-08-28T07:15:06.792093",
     "exception": false,
     "start_time": "2022-08-28T07:15:06.742136",
     "status": "completed"
    },
    "tags": []
   },
   "outputs": [
    {
     "data": {
      "text/html": [
       "<div>\n",
       "<style scoped>\n",
       "    .dataframe tbody tr th:only-of-type {\n",
       "        vertical-align: middle;\n",
       "    }\n",
       "\n",
       "    .dataframe tbody tr th {\n",
       "        vertical-align: top;\n",
       "    }\n",
       "\n",
       "    .dataframe thead th {\n",
       "        text-align: right;\n",
       "    }\n",
       "</style>\n",
       "<table border=\"1\" class=\"dataframe\">\n",
       "  <thead>\n",
       "    <tr style=\"text-align: right;\">\n",
       "      <th></th>\n",
       "      <th>id</th>\n",
       "      <th>keyword</th>\n",
       "      <th>location</th>\n",
       "      <th>text</th>\n",
       "      <th>target</th>\n",
       "    </tr>\n",
       "  </thead>\n",
       "  <tbody>\n",
       "    <tr>\n",
       "      <th>0</th>\n",
       "      <td>1</td>\n",
       "      <td>NaN</td>\n",
       "      <td>NaN</td>\n",
       "      <td>Our Deeds are the Reason of this #earthquake M...</td>\n",
       "      <td>1</td>\n",
       "    </tr>\n",
       "    <tr>\n",
       "      <th>1</th>\n",
       "      <td>4</td>\n",
       "      <td>NaN</td>\n",
       "      <td>NaN</td>\n",
       "      <td>Forest fire near La Ronge Sask. Canada</td>\n",
       "      <td>1</td>\n",
       "    </tr>\n",
       "    <tr>\n",
       "      <th>2</th>\n",
       "      <td>5</td>\n",
       "      <td>NaN</td>\n",
       "      <td>NaN</td>\n",
       "      <td>All residents asked to 'shelter in place' are ...</td>\n",
       "      <td>1</td>\n",
       "    </tr>\n",
       "    <tr>\n",
       "      <th>3</th>\n",
       "      <td>6</td>\n",
       "      <td>NaN</td>\n",
       "      <td>NaN</td>\n",
       "      <td>13,000 people receive #wildfires evacuation or...</td>\n",
       "      <td>1</td>\n",
       "    </tr>\n",
       "    <tr>\n",
       "      <th>4</th>\n",
       "      <td>7</td>\n",
       "      <td>NaN</td>\n",
       "      <td>NaN</td>\n",
       "      <td>Just got sent this photo from Ruby #Alaska as ...</td>\n",
       "      <td>1</td>\n",
       "    </tr>\n",
       "  </tbody>\n",
       "</table>\n",
       "</div>"
      ],
      "text/plain": [
       "   id keyword location                                               text  \\\n",
       "0   1     NaN      NaN  Our Deeds are the Reason of this #earthquake M...   \n",
       "1   4     NaN      NaN             Forest fire near La Ronge Sask. Canada   \n",
       "2   5     NaN      NaN  All residents asked to 'shelter in place' are ...   \n",
       "3   6     NaN      NaN  13,000 people receive #wildfires evacuation or...   \n",
       "4   7     NaN      NaN  Just got sent this photo from Ruby #Alaska as ...   \n",
       "\n",
       "   target  \n",
       "0       1  \n",
       "1       1  \n",
       "2       1  \n",
       "3       1  \n",
       "4       1  "
      ]
     },
     "execution_count": 4,
     "metadata": {},
     "output_type": "execute_result"
    }
   ],
   "source": [
    "df_train.head()"
   ]
  },
  {
   "cell_type": "code",
   "execution_count": 5,
   "metadata": {
    "execution": {
     "iopub.execute_input": "2022-08-28T07:15:06.856994Z",
     "iopub.status.busy": "2022-08-28T07:15:06.856406Z",
     "iopub.status.idle": "2022-08-28T07:15:06.859932Z",
     "shell.execute_reply": "2022-08-28T07:15:06.860324Z",
     "shell.execute_reply.started": "2022-08-28T05:24:26.355485Z"
    },
    "papermill": {
     "duration": 0.037371,
     "end_time": "2022-08-28T07:15:06.860454",
     "exception": false,
     "start_time": "2022-08-28T07:15:06.823083",
     "status": "completed"
    },
    "tags": []
   },
   "outputs": [],
   "source": [
    "import re\n"
   ]
  },
  {
   "cell_type": "code",
   "execution_count": 6,
   "metadata": {
    "execution": {
     "iopub.execute_input": "2022-08-28T07:15:06.929531Z",
     "iopub.status.busy": "2022-08-28T07:15:06.928760Z",
     "iopub.status.idle": "2022-08-28T07:15:06.931083Z",
     "shell.execute_reply": "2022-08-28T07:15:06.931604Z",
     "shell.execute_reply.started": "2022-08-28T05:25:43.977202Z"
    },
    "papermill": {
     "duration": 0.041406,
     "end_time": "2022-08-28T07:15:06.931718",
     "exception": false,
     "start_time": "2022-08-28T07:15:06.890312",
     "status": "completed"
    },
    "tags": []
   },
   "outputs": [],
   "source": [
    "def preprocess(text):\n",
    "    text = text.lower()\n",
    "    text = re.sub(r'https?:\\/\\/.*[\\r\\n]', '', text)\n",
    "    \n",
    "    text = text.replace(r'&amp;?', r'and')\n",
    "    text=text.replace(r'&lt;',r'<')\n",
    "    text=text.replace(r'&gt;',r'>')\n",
    "    \n",
    "    # 해시태그 삭제\n",
    "    text = re.sub(r'#', '', text)\n",
    "    \n",
    "    # @ 삭제\n",
    "    text = re.sub(r\"(?:\\@)\\w+\", \"\", text)\n",
    "    \n",
    "    # ascii 문자 삭제\n",
    "    text = text.encode('ascii', errors = 'ignore').decode()\n",
    "    \n",
    "    text=re.sub(r'[:\"#$%&\\*+,-/:;<=>@\\\\^_`{|}~]+','',text)\n",
    "    text=re.sub(r'[!]+','!',text)\n",
    "    text=re.sub(r'[?]+','?',text)\n",
    "    text=re.sub(r'[.]+','.',text)\n",
    "    text=re.sub(r\"'\",\"\",text)\n",
    "    text=re.sub(r\"\\(\",\"\",text)\n",
    "    text=re.sub(r\"\\)\",\"\",text)\n",
    "    \n",
    "    text = \"\".join(text.split())\n",
    "    return text"
   ]
  },
  {
   "cell_type": "code",
   "execution_count": 7,
   "metadata": {
    "execution": {
     "iopub.execute_input": "2022-08-28T07:15:07.043469Z",
     "iopub.status.busy": "2022-08-28T07:15:07.033742Z",
     "iopub.status.idle": "2022-08-28T07:15:07.233689Z",
     "shell.execute_reply": "2022-08-28T07:15:07.232851Z",
     "shell.execute_reply.started": "2022-08-28T05:25:48.089274Z"
    },
    "papermill": {
     "duration": 0.271594,
     "end_time": "2022-08-28T07:15:07.233801",
     "exception": false,
     "start_time": "2022-08-28T07:15:06.962207",
     "status": "completed"
    },
    "tags": []
   },
   "outputs": [],
   "source": [
    "df_train['text'] = df_train['text'].apply(preprocess)\n",
    "df_test['test'] = df_test['text'].apply(preprocess)\n",
    "\n",
    "df_train = df_train[df_train['text']!='']"
   ]
  },
  {
   "cell_type": "code",
   "execution_count": 8,
   "metadata": {
    "execution": {
     "iopub.execute_input": "2022-08-28T07:15:07.308570Z",
     "iopub.status.busy": "2022-08-28T07:15:07.307539Z",
     "iopub.status.idle": "2022-08-28T07:15:07.311051Z",
     "shell.execute_reply": "2022-08-28T07:15:07.311470Z",
     "shell.execute_reply.started": "2022-08-28T05:26:14.174091Z"
    },
    "papermill": {
     "duration": 0.046814,
     "end_time": "2022-08-28T07:15:07.311587",
     "exception": false,
     "start_time": "2022-08-28T07:15:07.264773",
     "status": "completed"
    },
    "tags": []
   },
   "outputs": [
    {
     "data": {
      "text/html": [
       "<div>\n",
       "<style scoped>\n",
       "    .dataframe tbody tr th:only-of-type {\n",
       "        vertical-align: middle;\n",
       "    }\n",
       "\n",
       "    .dataframe tbody tr th {\n",
       "        vertical-align: top;\n",
       "    }\n",
       "\n",
       "    .dataframe thead th {\n",
       "        text-align: right;\n",
       "    }\n",
       "</style>\n",
       "<table border=\"1\" class=\"dataframe\">\n",
       "  <thead>\n",
       "    <tr style=\"text-align: right;\">\n",
       "      <th></th>\n",
       "      <th>text</th>\n",
       "      <th>target</th>\n",
       "    </tr>\n",
       "  </thead>\n",
       "  <tbody>\n",
       "    <tr>\n",
       "      <th>0</th>\n",
       "      <td>ourdeedsarethereasonofthisearthquakemayallahfo...</td>\n",
       "      <td>1</td>\n",
       "    </tr>\n",
       "    <tr>\n",
       "      <th>1</th>\n",
       "      <td>forestfirenearlarongesaskcanada</td>\n",
       "      <td>1</td>\n",
       "    </tr>\n",
       "    <tr>\n",
       "      <th>2</th>\n",
       "      <td>allresidentsaskedtoshelterinplacearebeingnotif...</td>\n",
       "      <td>1</td>\n",
       "    </tr>\n",
       "    <tr>\n",
       "      <th>3</th>\n",
       "      <td>13000peoplereceivewildfiresevacuationordersinc...</td>\n",
       "      <td>1</td>\n",
       "    </tr>\n",
       "    <tr>\n",
       "      <th>4</th>\n",
       "      <td>justgotsentthisphotofromrubyalaskaassmokefromw...</td>\n",
       "      <td>1</td>\n",
       "    </tr>\n",
       "    <tr>\n",
       "      <th>...</th>\n",
       "      <td>...</td>\n",
       "      <td>...</td>\n",
       "    </tr>\n",
       "    <tr>\n",
       "      <th>7608</th>\n",
       "      <td>twogiantcranesholdingabridgecollapseintonearby...</td>\n",
       "      <td>1</td>\n",
       "    </tr>\n",
       "    <tr>\n",
       "      <th>7609</th>\n",
       "      <td>theoutofcontrolwildfiresincaliforniaeveninthen...</td>\n",
       "      <td>1</td>\n",
       "    </tr>\n",
       "    <tr>\n",
       "      <th>7610</th>\n",
       "      <td>m194[0104utc]?5kmsofvolcanohawaiihttptcozdtoyd...</td>\n",
       "      <td>1</td>\n",
       "    </tr>\n",
       "    <tr>\n",
       "      <th>7611</th>\n",
       "      <td>policeinvestigatingafteranebikecollidedwithaca...</td>\n",
       "      <td>1</td>\n",
       "    </tr>\n",
       "    <tr>\n",
       "      <th>7612</th>\n",
       "      <td>thelatestmorehomesrazedbynortherncaliforniawil...</td>\n",
       "      <td>1</td>\n",
       "    </tr>\n",
       "  </tbody>\n",
       "</table>\n",
       "<p>7613 rows × 2 columns</p>\n",
       "</div>"
      ],
      "text/plain": [
       "                                                   text  target\n",
       "0     ourdeedsarethereasonofthisearthquakemayallahfo...       1\n",
       "1                       forestfirenearlarongesaskcanada       1\n",
       "2     allresidentsaskedtoshelterinplacearebeingnotif...       1\n",
       "3     13000peoplereceivewildfiresevacuationordersinc...       1\n",
       "4     justgotsentthisphotofromrubyalaskaassmokefromw...       1\n",
       "...                                                 ...     ...\n",
       "7608  twogiantcranesholdingabridgecollapseintonearby...       1\n",
       "7609  theoutofcontrolwildfiresincaliforniaeveninthen...       1\n",
       "7610  m194[0104utc]?5kmsofvolcanohawaiihttptcozdtoyd...       1\n",
       "7611  policeinvestigatingafteranebikecollidedwithaca...       1\n",
       "7612  thelatestmorehomesrazedbynortherncaliforniawil...       1\n",
       "\n",
       "[7613 rows x 2 columns]"
      ]
     },
     "execution_count": 8,
     "metadata": {},
     "output_type": "execute_result"
    }
   ],
   "source": [
    "df_train[['text', 'target']]"
   ]
  },
  {
   "cell_type": "code",
   "execution_count": 9,
   "metadata": {
    "execution": {
     "iopub.execute_input": "2022-08-28T07:15:07.378649Z",
     "iopub.status.busy": "2022-08-28T07:15:07.377897Z",
     "iopub.status.idle": "2022-08-28T07:15:07.381435Z",
     "shell.execute_reply": "2022-08-28T07:15:07.381016Z",
     "shell.execute_reply.started": "2022-08-28T05:26:20.560477Z"
    },
    "papermill": {
     "duration": 0.038711,
     "end_time": "2022-08-28T07:15:07.381533",
     "exception": false,
     "start_time": "2022-08-28T07:15:07.342822",
     "status": "completed"
    },
    "tags": []
   },
   "outputs": [],
   "source": [
    "df_train = df_train[['text', 'target']]"
   ]
  },
  {
   "cell_type": "code",
   "execution_count": 10,
   "metadata": {
    "execution": {
     "iopub.execute_input": "2022-08-28T07:15:07.447725Z",
     "iopub.status.busy": "2022-08-28T07:15:07.446967Z",
     "iopub.status.idle": "2022-08-28T07:15:07.453130Z",
     "shell.execute_reply": "2022-08-28T07:15:07.452676Z",
     "shell.execute_reply.started": "2022-08-28T05:26:38.935855Z"
    },
    "papermill": {
     "duration": 0.040602,
     "end_time": "2022-08-28T07:15:07.453234",
     "exception": false,
     "start_time": "2022-08-28T07:15:07.412632",
     "status": "completed"
    },
    "tags": []
   },
   "outputs": [
    {
     "data": {
      "text/plain": [
       "0    4342\n",
       "1    3271\n",
       "Name: target, dtype: int64"
      ]
     },
     "execution_count": 10,
     "metadata": {},
     "output_type": "execute_result"
    }
   ],
   "source": [
    "df_train['target'].value_counts()"
   ]
  },
  {
   "cell_type": "code",
   "execution_count": 11,
   "metadata": {
    "execution": {
     "iopub.execute_input": "2022-08-28T07:15:07.519312Z",
     "iopub.status.busy": "2022-08-28T07:15:07.518620Z",
     "iopub.status.idle": "2022-08-28T07:15:07.521124Z",
     "shell.execute_reply": "2022-08-28T07:15:07.522056Z",
     "shell.execute_reply.started": "2022-08-28T05:27:27.044039Z"
    },
    "papermill": {
     "duration": 0.03791,
     "end_time": "2022-08-28T07:15:07.522171",
     "exception": false,
     "start_time": "2022-08-28T07:15:07.484261",
     "status": "completed"
    },
    "tags": []
   },
   "outputs": [],
   "source": [
    "texts= df_train.text.values\n",
    "labels = df_train.target.values"
   ]
  },
  {
   "cell_type": "code",
   "execution_count": 12,
   "metadata": {
    "execution": {
     "iopub.execute_input": "2022-08-28T07:15:07.589299Z",
     "iopub.status.busy": "2022-08-28T07:15:07.588209Z",
     "iopub.status.idle": "2022-08-28T07:15:07.592462Z",
     "shell.execute_reply": "2022-08-28T07:15:07.591995Z",
     "shell.execute_reply.started": "2022-08-28T05:27:29.870887Z"
    },
    "papermill": {
     "duration": 0.039509,
     "end_time": "2022-08-28T07:15:07.592559",
     "exception": false,
     "start_time": "2022-08-28T07:15:07.553050",
     "status": "completed"
    },
    "tags": []
   },
   "outputs": [
    {
     "data": {
      "text/plain": [
       "array(['ourdeedsarethereasonofthisearthquakemayallahforgiveusall',\n",
       "       'forestfirenearlarongesaskcanada',\n",
       "       'allresidentsaskedtoshelterinplacearebeingnotifiedbyofficersnootherevacuationorshelterinplaceordersareexpected',\n",
       "       ..., 'm194[0104utc]?5kmsofvolcanohawaiihttptcozdtoyd8ebj',\n",
       "       'policeinvestigatingafteranebikecollidedwithacarinlittleportugalebikeridersufferedseriousnonlifethreateninginjuries',\n",
       "       'thelatestmorehomesrazedbynortherncaliforniawildfireabcnewshttptcoymy4rskq3d'],\n",
       "      dtype=object)"
      ]
     },
     "execution_count": 12,
     "metadata": {},
     "output_type": "execute_result"
    }
   ],
   "source": [
    "texts"
   ]
  },
  {
   "cell_type": "code",
   "execution_count": 13,
   "metadata": {
    "execution": {
     "iopub.execute_input": "2022-08-28T07:15:07.659692Z",
     "iopub.status.busy": "2022-08-28T07:15:07.659122Z",
     "iopub.status.idle": "2022-08-28T07:15:14.004569Z",
     "shell.execute_reply": "2022-08-28T07:15:14.003432Z",
     "shell.execute_reply.started": "2022-08-28T05:27:51.634802Z"
    },
    "papermill": {
     "duration": 6.380977,
     "end_time": "2022-08-28T07:15:14.004697",
     "exception": false,
     "start_time": "2022-08-28T07:15:07.623720",
     "status": "completed"
    },
    "tags": []
   },
   "outputs": [
    {
     "name": "stderr",
     "output_type": "stream",
     "text": [
      "\u001b[34m\u001b[1mwandb\u001b[0m: \u001b[33mWARNING\u001b[0m W&B installed but not logged in.  Run `wandb login` or set the WANDB_API_KEY env variable.\n"
     ]
    }
   ],
   "source": [
    "from transformers import ElectraTokenizer, ElectraForSequenceClassification,AdamW\n"
   ]
  },
  {
   "cell_type": "code",
   "execution_count": 14,
   "metadata": {
    "execution": {
     "iopub.execute_input": "2022-08-28T07:15:14.074054Z",
     "iopub.status.busy": "2022-08-28T07:15:14.073072Z",
     "iopub.status.idle": "2022-08-28T07:15:54.664862Z",
     "shell.execute_reply": "2022-08-28T07:15:54.666388Z",
     "shell.execute_reply.started": "2022-08-28T05:28:09.570075Z"
    },
    "papermill": {
     "duration": 40.629847,
     "end_time": "2022-08-28T07:15:54.666631",
     "exception": false,
     "start_time": "2022-08-28T07:15:14.036784",
     "status": "completed"
    },
    "tags": []
   },
   "outputs": [
    {
     "data": {
      "application/vnd.jupyter.widget-view+json": {
       "model_id": "6b2dc70abc6540d2bdcafd05eef8b2f9",
       "version_major": 2,
       "version_minor": 0
      },
      "text/plain": [
       "HBox(children=(FloatProgress(value=0.0, description='Downloading', max=231508.0, style=ProgressStyle(descripti…"
      ]
     },
     "metadata": {},
     "output_type": "display_data"
    },
    {
     "name": "stdout",
     "output_type": "stream",
     "text": [
      "\n"
     ]
    },
    {
     "data": {
      "application/vnd.jupyter.widget-view+json": {
       "model_id": "4dfae3192f3f493a8d8779d931d53072",
       "version_major": 2,
       "version_minor": 0
      },
      "text/plain": [
       "HBox(children=(FloatProgress(value=0.0, description='Downloading', max=467.0, style=ProgressStyle(description_…"
      ]
     },
     "metadata": {},
     "output_type": "display_data"
    },
    {
     "name": "stdout",
     "output_type": "stream",
     "text": [
      "\n"
     ]
    },
    {
     "data": {
      "application/vnd.jupyter.widget-view+json": {
       "model_id": "d75cf53163fc45b596c0855c5de8c140",
       "version_major": 2,
       "version_minor": 0
      },
      "text/plain": [
       "HBox(children=(FloatProgress(value=0.0, description='Downloading', max=440343552.0, style=ProgressStyle(descri…"
      ]
     },
     "metadata": {},
     "output_type": "display_data"
    },
    {
     "name": "stdout",
     "output_type": "stream",
     "text": [
      "\n"
     ]
    },
    {
     "data": {
      "text/plain": [
       "ElectraForSequenceClassification(\n",
       "  (electra): ElectraModel(\n",
       "    (embeddings): ElectraEmbeddings(\n",
       "      (word_embeddings): Embedding(30522, 768, padding_idx=0)\n",
       "      (position_embeddings): Embedding(512, 768)\n",
       "      (token_type_embeddings): Embedding(2, 768)\n",
       "      (LayerNorm): LayerNorm((768,), eps=1e-12, elementwise_affine=True)\n",
       "      (dropout): Dropout(p=0.1, inplace=False)\n",
       "    )\n",
       "    (encoder): BertEncoder(\n",
       "      (layer): ModuleList(\n",
       "        (0): BertLayer(\n",
       "          (attention): BertAttention(\n",
       "            (self): BertSelfAttention(\n",
       "              (query): Linear(in_features=768, out_features=768, bias=True)\n",
       "              (key): Linear(in_features=768, out_features=768, bias=True)\n",
       "              (value): Linear(in_features=768, out_features=768, bias=True)\n",
       "              (dropout): Dropout(p=0.1, inplace=False)\n",
       "            )\n",
       "            (output): BertSelfOutput(\n",
       "              (dense): Linear(in_features=768, out_features=768, bias=True)\n",
       "              (LayerNorm): LayerNorm((768,), eps=1e-12, elementwise_affine=True)\n",
       "              (dropout): Dropout(p=0.1, inplace=False)\n",
       "            )\n",
       "          )\n",
       "          (intermediate): BertIntermediate(\n",
       "            (dense): Linear(in_features=768, out_features=3072, bias=True)\n",
       "          )\n",
       "          (output): BertOutput(\n",
       "            (dense): Linear(in_features=3072, out_features=768, bias=True)\n",
       "            (LayerNorm): LayerNorm((768,), eps=1e-12, elementwise_affine=True)\n",
       "            (dropout): Dropout(p=0.1, inplace=False)\n",
       "          )\n",
       "        )\n",
       "        (1): BertLayer(\n",
       "          (attention): BertAttention(\n",
       "            (self): BertSelfAttention(\n",
       "              (query): Linear(in_features=768, out_features=768, bias=True)\n",
       "              (key): Linear(in_features=768, out_features=768, bias=True)\n",
       "              (value): Linear(in_features=768, out_features=768, bias=True)\n",
       "              (dropout): Dropout(p=0.1, inplace=False)\n",
       "            )\n",
       "            (output): BertSelfOutput(\n",
       "              (dense): Linear(in_features=768, out_features=768, bias=True)\n",
       "              (LayerNorm): LayerNorm((768,), eps=1e-12, elementwise_affine=True)\n",
       "              (dropout): Dropout(p=0.1, inplace=False)\n",
       "            )\n",
       "          )\n",
       "          (intermediate): BertIntermediate(\n",
       "            (dense): Linear(in_features=768, out_features=3072, bias=True)\n",
       "          )\n",
       "          (output): BertOutput(\n",
       "            (dense): Linear(in_features=3072, out_features=768, bias=True)\n",
       "            (LayerNorm): LayerNorm((768,), eps=1e-12, elementwise_affine=True)\n",
       "            (dropout): Dropout(p=0.1, inplace=False)\n",
       "          )\n",
       "        )\n",
       "        (2): BertLayer(\n",
       "          (attention): BertAttention(\n",
       "            (self): BertSelfAttention(\n",
       "              (query): Linear(in_features=768, out_features=768, bias=True)\n",
       "              (key): Linear(in_features=768, out_features=768, bias=True)\n",
       "              (value): Linear(in_features=768, out_features=768, bias=True)\n",
       "              (dropout): Dropout(p=0.1, inplace=False)\n",
       "            )\n",
       "            (output): BertSelfOutput(\n",
       "              (dense): Linear(in_features=768, out_features=768, bias=True)\n",
       "              (LayerNorm): LayerNorm((768,), eps=1e-12, elementwise_affine=True)\n",
       "              (dropout): Dropout(p=0.1, inplace=False)\n",
       "            )\n",
       "          )\n",
       "          (intermediate): BertIntermediate(\n",
       "            (dense): Linear(in_features=768, out_features=3072, bias=True)\n",
       "          )\n",
       "          (output): BertOutput(\n",
       "            (dense): Linear(in_features=3072, out_features=768, bias=True)\n",
       "            (LayerNorm): LayerNorm((768,), eps=1e-12, elementwise_affine=True)\n",
       "            (dropout): Dropout(p=0.1, inplace=False)\n",
       "          )\n",
       "        )\n",
       "        (3): BertLayer(\n",
       "          (attention): BertAttention(\n",
       "            (self): BertSelfAttention(\n",
       "              (query): Linear(in_features=768, out_features=768, bias=True)\n",
       "              (key): Linear(in_features=768, out_features=768, bias=True)\n",
       "              (value): Linear(in_features=768, out_features=768, bias=True)\n",
       "              (dropout): Dropout(p=0.1, inplace=False)\n",
       "            )\n",
       "            (output): BertSelfOutput(\n",
       "              (dense): Linear(in_features=768, out_features=768, bias=True)\n",
       "              (LayerNorm): LayerNorm((768,), eps=1e-12, elementwise_affine=True)\n",
       "              (dropout): Dropout(p=0.1, inplace=False)\n",
       "            )\n",
       "          )\n",
       "          (intermediate): BertIntermediate(\n",
       "            (dense): Linear(in_features=768, out_features=3072, bias=True)\n",
       "          )\n",
       "          (output): BertOutput(\n",
       "            (dense): Linear(in_features=3072, out_features=768, bias=True)\n",
       "            (LayerNorm): LayerNorm((768,), eps=1e-12, elementwise_affine=True)\n",
       "            (dropout): Dropout(p=0.1, inplace=False)\n",
       "          )\n",
       "        )\n",
       "        (4): BertLayer(\n",
       "          (attention): BertAttention(\n",
       "            (self): BertSelfAttention(\n",
       "              (query): Linear(in_features=768, out_features=768, bias=True)\n",
       "              (key): Linear(in_features=768, out_features=768, bias=True)\n",
       "              (value): Linear(in_features=768, out_features=768, bias=True)\n",
       "              (dropout): Dropout(p=0.1, inplace=False)\n",
       "            )\n",
       "            (output): BertSelfOutput(\n",
       "              (dense): Linear(in_features=768, out_features=768, bias=True)\n",
       "              (LayerNorm): LayerNorm((768,), eps=1e-12, elementwise_affine=True)\n",
       "              (dropout): Dropout(p=0.1, inplace=False)\n",
       "            )\n",
       "          )\n",
       "          (intermediate): BertIntermediate(\n",
       "            (dense): Linear(in_features=768, out_features=3072, bias=True)\n",
       "          )\n",
       "          (output): BertOutput(\n",
       "            (dense): Linear(in_features=3072, out_features=768, bias=True)\n",
       "            (LayerNorm): LayerNorm((768,), eps=1e-12, elementwise_affine=True)\n",
       "            (dropout): Dropout(p=0.1, inplace=False)\n",
       "          )\n",
       "        )\n",
       "        (5): BertLayer(\n",
       "          (attention): BertAttention(\n",
       "            (self): BertSelfAttention(\n",
       "              (query): Linear(in_features=768, out_features=768, bias=True)\n",
       "              (key): Linear(in_features=768, out_features=768, bias=True)\n",
       "              (value): Linear(in_features=768, out_features=768, bias=True)\n",
       "              (dropout): Dropout(p=0.1, inplace=False)\n",
       "            )\n",
       "            (output): BertSelfOutput(\n",
       "              (dense): Linear(in_features=768, out_features=768, bias=True)\n",
       "              (LayerNorm): LayerNorm((768,), eps=1e-12, elementwise_affine=True)\n",
       "              (dropout): Dropout(p=0.1, inplace=False)\n",
       "            )\n",
       "          )\n",
       "          (intermediate): BertIntermediate(\n",
       "            (dense): Linear(in_features=768, out_features=3072, bias=True)\n",
       "          )\n",
       "          (output): BertOutput(\n",
       "            (dense): Linear(in_features=3072, out_features=768, bias=True)\n",
       "            (LayerNorm): LayerNorm((768,), eps=1e-12, elementwise_affine=True)\n",
       "            (dropout): Dropout(p=0.1, inplace=False)\n",
       "          )\n",
       "        )\n",
       "        (6): BertLayer(\n",
       "          (attention): BertAttention(\n",
       "            (self): BertSelfAttention(\n",
       "              (query): Linear(in_features=768, out_features=768, bias=True)\n",
       "              (key): Linear(in_features=768, out_features=768, bias=True)\n",
       "              (value): Linear(in_features=768, out_features=768, bias=True)\n",
       "              (dropout): Dropout(p=0.1, inplace=False)\n",
       "            )\n",
       "            (output): BertSelfOutput(\n",
       "              (dense): Linear(in_features=768, out_features=768, bias=True)\n",
       "              (LayerNorm): LayerNorm((768,), eps=1e-12, elementwise_affine=True)\n",
       "              (dropout): Dropout(p=0.1, inplace=False)\n",
       "            )\n",
       "          )\n",
       "          (intermediate): BertIntermediate(\n",
       "            (dense): Linear(in_features=768, out_features=3072, bias=True)\n",
       "          )\n",
       "          (output): BertOutput(\n",
       "            (dense): Linear(in_features=3072, out_features=768, bias=True)\n",
       "            (LayerNorm): LayerNorm((768,), eps=1e-12, elementwise_affine=True)\n",
       "            (dropout): Dropout(p=0.1, inplace=False)\n",
       "          )\n",
       "        )\n",
       "        (7): BertLayer(\n",
       "          (attention): BertAttention(\n",
       "            (self): BertSelfAttention(\n",
       "              (query): Linear(in_features=768, out_features=768, bias=True)\n",
       "              (key): Linear(in_features=768, out_features=768, bias=True)\n",
       "              (value): Linear(in_features=768, out_features=768, bias=True)\n",
       "              (dropout): Dropout(p=0.1, inplace=False)\n",
       "            )\n",
       "            (output): BertSelfOutput(\n",
       "              (dense): Linear(in_features=768, out_features=768, bias=True)\n",
       "              (LayerNorm): LayerNorm((768,), eps=1e-12, elementwise_affine=True)\n",
       "              (dropout): Dropout(p=0.1, inplace=False)\n",
       "            )\n",
       "          )\n",
       "          (intermediate): BertIntermediate(\n",
       "            (dense): Linear(in_features=768, out_features=3072, bias=True)\n",
       "          )\n",
       "          (output): BertOutput(\n",
       "            (dense): Linear(in_features=3072, out_features=768, bias=True)\n",
       "            (LayerNorm): LayerNorm((768,), eps=1e-12, elementwise_affine=True)\n",
       "            (dropout): Dropout(p=0.1, inplace=False)\n",
       "          )\n",
       "        )\n",
       "        (8): BertLayer(\n",
       "          (attention): BertAttention(\n",
       "            (self): BertSelfAttention(\n",
       "              (query): Linear(in_features=768, out_features=768, bias=True)\n",
       "              (key): Linear(in_features=768, out_features=768, bias=True)\n",
       "              (value): Linear(in_features=768, out_features=768, bias=True)\n",
       "              (dropout): Dropout(p=0.1, inplace=False)\n",
       "            )\n",
       "            (output): BertSelfOutput(\n",
       "              (dense): Linear(in_features=768, out_features=768, bias=True)\n",
       "              (LayerNorm): LayerNorm((768,), eps=1e-12, elementwise_affine=True)\n",
       "              (dropout): Dropout(p=0.1, inplace=False)\n",
       "            )\n",
       "          )\n",
       "          (intermediate): BertIntermediate(\n",
       "            (dense): Linear(in_features=768, out_features=3072, bias=True)\n",
       "          )\n",
       "          (output): BertOutput(\n",
       "            (dense): Linear(in_features=3072, out_features=768, bias=True)\n",
       "            (LayerNorm): LayerNorm((768,), eps=1e-12, elementwise_affine=True)\n",
       "            (dropout): Dropout(p=0.1, inplace=False)\n",
       "          )\n",
       "        )\n",
       "        (9): BertLayer(\n",
       "          (attention): BertAttention(\n",
       "            (self): BertSelfAttention(\n",
       "              (query): Linear(in_features=768, out_features=768, bias=True)\n",
       "              (key): Linear(in_features=768, out_features=768, bias=True)\n",
       "              (value): Linear(in_features=768, out_features=768, bias=True)\n",
       "              (dropout): Dropout(p=0.1, inplace=False)\n",
       "            )\n",
       "            (output): BertSelfOutput(\n",
       "              (dense): Linear(in_features=768, out_features=768, bias=True)\n",
       "              (LayerNorm): LayerNorm((768,), eps=1e-12, elementwise_affine=True)\n",
       "              (dropout): Dropout(p=0.1, inplace=False)\n",
       "            )\n",
       "          )\n",
       "          (intermediate): BertIntermediate(\n",
       "            (dense): Linear(in_features=768, out_features=3072, bias=True)\n",
       "          )\n",
       "          (output): BertOutput(\n",
       "            (dense): Linear(in_features=3072, out_features=768, bias=True)\n",
       "            (LayerNorm): LayerNorm((768,), eps=1e-12, elementwise_affine=True)\n",
       "            (dropout): Dropout(p=0.1, inplace=False)\n",
       "          )\n",
       "        )\n",
       "        (10): BertLayer(\n",
       "          (attention): BertAttention(\n",
       "            (self): BertSelfAttention(\n",
       "              (query): Linear(in_features=768, out_features=768, bias=True)\n",
       "              (key): Linear(in_features=768, out_features=768, bias=True)\n",
       "              (value): Linear(in_features=768, out_features=768, bias=True)\n",
       "              (dropout): Dropout(p=0.1, inplace=False)\n",
       "            )\n",
       "            (output): BertSelfOutput(\n",
       "              (dense): Linear(in_features=768, out_features=768, bias=True)\n",
       "              (LayerNorm): LayerNorm((768,), eps=1e-12, elementwise_affine=True)\n",
       "              (dropout): Dropout(p=0.1, inplace=False)\n",
       "            )\n",
       "          )\n",
       "          (intermediate): BertIntermediate(\n",
       "            (dense): Linear(in_features=768, out_features=3072, bias=True)\n",
       "          )\n",
       "          (output): BertOutput(\n",
       "            (dense): Linear(in_features=3072, out_features=768, bias=True)\n",
       "            (LayerNorm): LayerNorm((768,), eps=1e-12, elementwise_affine=True)\n",
       "            (dropout): Dropout(p=0.1, inplace=False)\n",
       "          )\n",
       "        )\n",
       "        (11): BertLayer(\n",
       "          (attention): BertAttention(\n",
       "            (self): BertSelfAttention(\n",
       "              (query): Linear(in_features=768, out_features=768, bias=True)\n",
       "              (key): Linear(in_features=768, out_features=768, bias=True)\n",
       "              (value): Linear(in_features=768, out_features=768, bias=True)\n",
       "              (dropout): Dropout(p=0.1, inplace=False)\n",
       "            )\n",
       "            (output): BertSelfOutput(\n",
       "              (dense): Linear(in_features=768, out_features=768, bias=True)\n",
       "              (LayerNorm): LayerNorm((768,), eps=1e-12, elementwise_affine=True)\n",
       "              (dropout): Dropout(p=0.1, inplace=False)\n",
       "            )\n",
       "          )\n",
       "          (intermediate): BertIntermediate(\n",
       "            (dense): Linear(in_features=768, out_features=3072, bias=True)\n",
       "          )\n",
       "          (output): BertOutput(\n",
       "            (dense): Linear(in_features=3072, out_features=768, bias=True)\n",
       "            (LayerNorm): LayerNorm((768,), eps=1e-12, elementwise_affine=True)\n",
       "            (dropout): Dropout(p=0.1, inplace=False)\n",
       "          )\n",
       "        )\n",
       "      )\n",
       "    )\n",
       "  )\n",
       "  (classifier): ElectraClassificationHead(\n",
       "    (dense): Linear(in_features=768, out_features=768, bias=True)\n",
       "    (dropout): Dropout(p=0.1, inplace=False)\n",
       "    (out_proj): Linear(in_features=768, out_features=2, bias=True)\n",
       "  )\n",
       ")"
      ]
     },
     "execution_count": 14,
     "metadata": {},
     "output_type": "execute_result"
    }
   ],
   "source": [
    "tokenizer = ElectraTokenizer.from_pretrained('google/electra-base-discriminator')\n",
    "model = ElectraForSequenceClassification.from_pretrained('google/electra-base-discriminator',num_labels=2)\n",
    "model.cuda()"
   ]
  },
  {
   "cell_type": "code",
   "execution_count": 15,
   "metadata": {
    "execution": {
     "iopub.execute_input": "2022-08-28T07:15:54.813902Z",
     "iopub.status.busy": "2022-08-28T07:15:54.812981Z",
     "iopub.status.idle": "2022-08-28T07:15:54.815340Z",
     "shell.execute_reply": "2022-08-28T07:15:54.814668Z",
     "shell.execute_reply.started": "2022-08-28T05:33:13.571946Z"
    },
    "papermill": {
     "duration": 0.072425,
     "end_time": "2022-08-28T07:15:54.815510",
     "exception": false,
     "start_time": "2022-08-28T07:15:54.743085",
     "status": "completed"
    },
    "tags": []
   },
   "outputs": [],
   "source": [
    "import matplotlib.pyplot as plt\n"
   ]
  },
  {
   "cell_type": "code",
   "execution_count": 16,
   "metadata": {
    "execution": {
     "iopub.execute_input": "2022-08-28T07:15:54.935023Z",
     "iopub.status.busy": "2022-08-28T07:15:54.934152Z",
     "iopub.status.idle": "2022-08-28T07:15:54.937637Z",
     "shell.execute_reply": "2022-08-28T07:15:54.935727Z",
     "shell.execute_reply.started": "2022-08-28T05:39:17.930523Z"
    },
    "papermill": {
     "duration": 0.065083,
     "end_time": "2022-08-28T07:15:54.937771",
     "exception": false,
     "start_time": "2022-08-28T07:15:54.872688",
     "status": "completed"
    },
    "tags": []
   },
   "outputs": [
    {
     "data": {
      "text/plain": [
       "array(['ourdeedsarethereasonofthisearthquakemayallahforgiveusall',\n",
       "       'forestfirenearlarongesaskcanada',\n",
       "       'allresidentsaskedtoshelterinplacearebeingnotifiedbyofficersnootherevacuationorshelterinplaceordersareexpected',\n",
       "       ..., 'm194[0104utc]?5kmsofvolcanohawaiihttptcozdtoyd8ebj',\n",
       "       'policeinvestigatingafteranebikecollidedwithacarinlittleportugalebikeridersufferedseriousnonlifethreateninginjuries',\n",
       "       'thelatestmorehomesrazedbynortherncaliforniawildfireabcnewshttptcoymy4rskq3d'],\n",
       "      dtype=object)"
      ]
     },
     "execution_count": 16,
     "metadata": {},
     "output_type": "execute_result"
    }
   ],
   "source": [
    "texts"
   ]
  },
  {
   "cell_type": "code",
   "execution_count": 17,
   "metadata": {
    "execution": {
     "iopub.execute_input": "2022-08-28T07:15:55.058119Z",
     "iopub.status.busy": "2022-08-28T07:15:55.057340Z",
     "iopub.status.idle": "2022-08-28T07:16:01.811821Z",
     "shell.execute_reply": "2022-08-28T07:16:01.810654Z",
     "shell.execute_reply.started": "2022-08-28T05:40:32.574776Z"
    },
    "papermill": {
     "duration": 6.819564,
     "end_time": "2022-08-28T07:16:01.811978",
     "exception": false,
     "start_time": "2022-08-28T07:15:54.992414",
     "status": "completed"
    },
    "tags": []
   },
   "outputs": [
    {
     "data": {
      "image/png": "[encoded data removed]",
      "text/plain": [
       "<Figure size 576x360 with 1 Axes>"
      ]
     },
     "metadata": {
      "needs_background": "light"
     },
     "output_type": "display_data"
    }
   ],
   "source": [
    "import matplotlib.pyplot as plt\n",
    "def plot_sentence_embeddings_length(text_list, tokenizer):\n",
    "    tokenized_texts = list(map(lambda t: tokenizer.tokenize(t), text_list))\n",
    "    tokenized_texts_len = list(map(lambda t: len(t), tokenized_texts))\n",
    "    fig, ax = plt.subplots(figsize=(8, 5));\n",
    "    ax.hist(tokenized_texts_len, bins=40);\n",
    "    ax.set_xlabel(\"Length of Comment Embeddings\");\n",
    "    ax.set_ylabel(\"Number of Comments\");\n",
    "    return\n",
    "plot_sentence_embeddings_length(texts, tokenizer)"
   ]
  },
  {
   "cell_type": "code",
   "execution_count": null,
   "metadata": {
    "papermill": {
     "duration": 0.03556,
     "end_time": "2022-08-28T07:16:01.883952",
     "exception": false,
     "start_time": "2022-08-28T07:16:01.848392",
     "status": "completed"
    },
    "tags": []
   },
   "outputs": [],
   "source": []
  },
  {
   "cell_type": "code",
   "execution_count": 18,
   "metadata": {
    "execution": {
     "iopub.execute_input": "2022-08-28T07:16:01.987701Z",
     "iopub.status.busy": "2022-08-28T07:16:01.982416Z",
     "iopub.status.idle": "2022-08-28T07:16:09.744178Z",
     "shell.execute_reply": "2022-08-28T07:16:09.743152Z",
     "shell.execute_reply.started": "2022-08-28T05:43:21.268747Z"
    },
    "papermill": {
     "duration": 7.825624,
     "end_time": "2022-08-28T07:16:09.744312",
     "exception": false,
     "start_time": "2022-08-28T07:16:01.918688",
     "status": "completed"
    },
    "tags": []
   },
   "outputs": [],
   "source": [
    "indices=tokenizer.batch_encode_plus(texts,max_length=64,add_special_tokens=True, return_attention_mask=True,pad_to_max_length=True,truncation=True)\n"
   ]
  },
  {
   "cell_type": "code",
   "execution_count": 19,
   "metadata": {
    "execution": {
     "iopub.execute_input": "2022-08-28T07:16:09.820657Z",
     "iopub.status.busy": "2022-08-28T07:16:09.819476Z",
     "iopub.status.idle": "2022-08-28T07:16:09.822797Z",
     "shell.execute_reply": "2022-08-28T07:16:09.823221Z",
     "shell.execute_reply.started": "2022-08-28T05:44:26.812637Z"
    },
    "papermill": {
     "duration": 0.043629,
     "end_time": "2022-08-28T07:16:09.823339",
     "exception": false,
     "start_time": "2022-08-28T07:16:09.779710",
     "status": "completed"
    },
    "tags": []
   },
   "outputs": [
    {
     "data": {
      "text/plain": [
       "7613"
      ]
     },
     "execution_count": 19,
     "metadata": {},
     "output_type": "execute_result"
    }
   ],
   "source": [
    "len(indices['input_ids'])"
   ]
  },
  {
   "cell_type": "code",
   "execution_count": 20,
   "metadata": {
    "execution": {
     "iopub.execute_input": "2022-08-28T07:16:09.896736Z",
     "iopub.status.busy": "2022-08-28T07:16:09.896212Z",
     "iopub.status.idle": "2022-08-28T07:16:09.899862Z",
     "shell.execute_reply": "2022-08-28T07:16:09.899468Z",
     "shell.execute_reply.started": "2022-08-28T05:44:43.869133Z"
    },
    "papermill": {
     "duration": 0.04195,
     "end_time": "2022-08-28T07:16:09.900030",
     "exception": false,
     "start_time": "2022-08-28T07:16:09.858080",
     "status": "completed"
    },
    "tags": []
   },
   "outputs": [],
   "source": [
    "input_ids = indices['input_ids']"
   ]
  },
  {
   "cell_type": "code",
   "execution_count": 21,
   "metadata": {
    "execution": {
     "iopub.execute_input": "2022-08-28T07:16:09.975124Z",
     "iopub.status.busy": "2022-08-28T07:16:09.974567Z",
     "iopub.status.idle": "2022-08-28T07:16:09.978241Z",
     "shell.execute_reply": "2022-08-28T07:16:09.977792Z",
     "shell.execute_reply.started": "2022-08-28T05:49:18.196100Z"
    },
    "papermill": {
     "duration": 0.042662,
     "end_time": "2022-08-28T07:16:09.978340",
     "exception": false,
     "start_time": "2022-08-28T07:16:09.935678",
     "status": "completed"
    },
    "tags": []
   },
   "outputs": [],
   "source": [
    "attention_masks=indices[\"attention_mask\"]"
   ]
  },
  {
   "cell_type": "code",
   "execution_count": 22,
   "metadata": {
    "execution": {
     "iopub.execute_input": "2022-08-28T07:16:10.055791Z",
     "iopub.status.busy": "2022-08-28T07:16:10.054082Z",
     "iopub.status.idle": "2022-08-28T07:16:10.058036Z",
     "shell.execute_reply": "2022-08-28T07:16:10.057396Z",
     "shell.execute_reply.started": "2022-08-28T05:45:38.298714Z"
    },
    "papermill": {
     "duration": 0.043767,
     "end_time": "2022-08-28T07:16:10.058166",
     "exception": false,
     "start_time": "2022-08-28T07:16:10.014399",
     "status": "completed"
    },
    "tags": []
   },
   "outputs": [
    {
     "name": "stdout",
     "output_type": "stream",
     "text": [
      "[1, 1, 1, 1, 1, 1, 1, 1, 1, 1, 1, 1, 1, 1, 1, 1, 1, 1, 1, 1, 1, 1, 1, 0, 0, 0, 0, 0, 0, 0, 0, 0, 0, 0, 0, 0, 0, 0, 0, 0, 0, 0, 0, 0, 0, 0, 0, 0, 0, 0, 0, 0, 0, 0, 0, 0, 0, 0, 0, 0, 0, 0, 0, 0]\n",
      "7613\n"
     ]
    }
   ],
   "source": [
    "print(indices[\"attention_mask\"][0])\n",
    "print(len(indices['attention_mask']))"
   ]
  },
  {
   "cell_type": "code",
   "execution_count": 23,
   "metadata": {
    "execution": {
     "iopub.execute_input": "2022-08-28T07:16:10.134801Z",
     "iopub.status.busy": "2022-08-28T07:16:10.134151Z",
     "iopub.status.idle": "2022-08-28T07:16:10.159833Z",
     "shell.execute_reply": "2022-08-28T07:16:10.159426Z",
     "shell.execute_reply.started": "2022-08-28T05:48:50.292182Z"
    },
    "papermill": {
     "duration": 0.064642,
     "end_time": "2022-08-28T07:16:10.159969",
     "exception": false,
     "start_time": "2022-08-28T07:16:10.095327",
     "status": "completed"
    },
    "tags": []
   },
   "outputs": [],
   "source": [
    "from sklearn.model_selection import train_test_split\n",
    "x_train, x_valid, y_train, y_valid = train_test_split(input_ids, \n",
    "                                                      labels,\n",
    "                                                      random_state=42, \n",
    "                                                      test_size=0.2)\n"
   ]
  },
  {
   "cell_type": "code",
   "execution_count": 24,
   "metadata": {
    "execution": {
     "iopub.execute_input": "2022-08-28T07:16:10.239021Z",
     "iopub.status.busy": "2022-08-28T07:16:10.238378Z",
     "iopub.status.idle": "2022-08-28T07:16:10.241174Z",
     "shell.execute_reply": "2022-08-28T07:16:10.241751Z",
     "shell.execute_reply.started": "2022-08-28T05:49:20.343834Z"
    },
    "papermill": {
     "duration": 0.04564,
     "end_time": "2022-08-28T07:16:10.241886",
     "exception": false,
     "start_time": "2022-08-28T07:16:10.196246",
     "status": "completed"
    },
    "tags": []
   },
   "outputs": [],
   "source": [
    "train_masks, validation_masks, _, _ = train_test_split(attention_masks, \n",
    "                                                       labels,\n",
    "                                                       random_state=42, \n",
    "                                                       test_size=0.2)"
   ]
  },
  {
   "cell_type": "code",
   "execution_count": 25,
   "metadata": {
    "execution": {
     "iopub.execute_input": "2022-08-28T07:16:10.345622Z",
     "iopub.status.busy": "2022-08-28T07:16:10.344886Z",
     "iopub.status.idle": "2022-08-28T07:16:10.356765Z",
     "shell.execute_reply": "2022-08-28T07:16:10.356356Z",
     "shell.execute_reply.started": "2022-08-28T05:53:00.152308Z"
    },
    "papermill": {
     "duration": 0.079275,
     "end_time": "2022-08-28T07:16:10.356885",
     "exception": false,
     "start_time": "2022-08-28T07:16:10.277610",
     "status": "completed"
    },
    "tags": []
   },
   "outputs": [],
   "source": [
    "train_inputs = torch.tensor(x_train)\n",
    "validation_inputs = torch.tensor(x_valid)\n",
    "\n",
    "train_labels = torch.tensor(y_train, dtype=torch.long)\n",
    "validation_labels = torch.tensor(y_valid, dtype =torch.long)\n",
    "\n",
    "train_masks = torch.tensor(train_masks, dtype=torch.long)\n",
    "validation_masks= torch.tensor(validation_masks, dtype = torch.long)"
   ]
  },
  {
   "cell_type": "code",
   "execution_count": 26,
   "metadata": {
    "execution": {
     "iopub.execute_input": "2022-08-28T07:16:10.432747Z",
     "iopub.status.busy": "2022-08-28T07:16:10.432109Z",
     "iopub.status.idle": "2022-08-28T07:16:10.435757Z",
     "shell.execute_reply": "2022-08-28T07:16:10.436291Z",
     "shell.execute_reply.started": "2022-08-28T05:54:13.803493Z"
    },
    "papermill": {
     "duration": 0.043893,
     "end_time": "2022-08-28T07:16:10.436407",
     "exception": false,
     "start_time": "2022-08-28T07:16:10.392514",
     "status": "completed"
    },
    "tags": []
   },
   "outputs": [],
   "source": [
    "from torch.utils.data import TensorDataset,\\\n",
    "                             DataLoader,\\\n",
    "                             RandomSampler,\\\n",
    "                             SequentialSampler"
   ]
  },
  {
   "cell_type": "code",
   "execution_count": 27,
   "metadata": {
    "execution": {
     "iopub.execute_input": "2022-08-28T07:16:10.511521Z",
     "iopub.status.busy": "2022-08-28T07:16:10.510751Z",
     "iopub.status.idle": "2022-08-28T07:16:10.513727Z",
     "shell.execute_reply": "2022-08-28T07:16:10.513312Z",
     "shell.execute_reply.started": "2022-08-28T05:54:34.098398Z"
    },
    "papermill": {
     "duration": 0.042285,
     "end_time": "2022-08-28T07:16:10.513825",
     "exception": false,
     "start_time": "2022-08-28T07:16:10.471540",
     "status": "completed"
    },
    "tags": []
   },
   "outputs": [],
   "source": [
    "# batch 사이즈\n",
    "batch_size  = 32"
   ]
  },
  {
   "cell_type": "markdown",
   "metadata": {
    "papermill": {
     "duration": 0.035266,
     "end_time": "2022-08-28T07:16:10.584604",
     "exception": false,
     "start_time": "2022-08-28T07:16:10.549338",
     "status": "completed"
    },
    "tags": []
   },
   "source": [
    "### train set"
   ]
  },
  {
   "cell_type": "code",
   "execution_count": 28,
   "metadata": {
    "execution": {
     "iopub.execute_input": "2022-08-28T07:16:10.660709Z",
     "iopub.status.busy": "2022-08-28T07:16:10.659849Z",
     "iopub.status.idle": "2022-08-28T07:16:10.663095Z",
     "shell.execute_reply": "2022-08-28T07:16:10.663517Z",
     "shell.execute_reply.started": "2022-08-28T05:55:09.184247Z"
    },
    "papermill": {
     "duration": 0.04375,
     "end_time": "2022-08-28T07:16:10.663637",
     "exception": false,
     "start_time": "2022-08-28T07:16:10.619887",
     "status": "completed"
    },
    "tags": []
   },
   "outputs": [
    {
     "data": {
      "text/plain": [
       "<torch.utils.data.dataset.TensorDataset at 0x7fa107631a90>"
      ]
     },
     "execution_count": 28,
     "metadata": {},
     "output_type": "execute_result"
    }
   ],
   "source": [
    "train_data = TensorDataset(train_inputs, train_masks, train_labels)\n",
    "train_data"
   ]
  },
  {
   "cell_type": "code",
   "execution_count": 29,
   "metadata": {
    "execution": {
     "iopub.execute_input": "2022-08-28T07:16:10.740281Z",
     "iopub.status.busy": "2022-08-28T07:16:10.739469Z",
     "iopub.status.idle": "2022-08-28T07:16:10.743406Z",
     "shell.execute_reply": "2022-08-28T07:16:10.742991Z",
     "shell.execute_reply.started": "2022-08-28T05:55:47.831916Z"
    },
    "papermill": {
     "duration": 0.043673,
     "end_time": "2022-08-28T07:16:10.743504",
     "exception": false,
     "start_time": "2022-08-28T07:16:10.699831",
     "status": "completed"
    },
    "tags": []
   },
   "outputs": [
    {
     "data": {
      "text/plain": [
       "<torch.utils.data.sampler.RandomSampler at 0x7fa107631090>"
      ]
     },
     "execution_count": 29,
     "metadata": {},
     "output_type": "execute_result"
    }
   ],
   "source": [
    "train_sampler = RandomSampler(train_data)\n",
    "train_sampler"
   ]
  },
  {
   "cell_type": "code",
   "execution_count": 30,
   "metadata": {
    "execution": {
     "iopub.execute_input": "2022-08-28T07:16:10.819260Z",
     "iopub.status.busy": "2022-08-28T07:16:10.818703Z",
     "iopub.status.idle": "2022-08-28T07:16:10.823932Z",
     "shell.execute_reply": "2022-08-28T07:16:10.823473Z",
     "shell.execute_reply.started": "2022-08-28T05:56:49.603931Z"
    },
    "papermill": {
     "duration": 0.044859,
     "end_time": "2022-08-28T07:16:10.824030",
     "exception": false,
     "start_time": "2022-08-28T07:16:10.779171",
     "status": "completed"
    },
    "tags": []
   },
   "outputs": [
    {
     "data": {
      "text/plain": [
       "<torch.utils.data.dataloader.DataLoader at 0x7fa107625a90>"
      ]
     },
     "execution_count": 30,
     "metadata": {},
     "output_type": "execute_result"
    }
   ],
   "source": [
    "train_dataloader = DataLoader(train_data, sampler=train_sampler, batch_size=batch_size)\n",
    "train_dataloader"
   ]
  },
  {
   "cell_type": "code",
   "execution_count": 31,
   "metadata": {
    "execution": {
     "iopub.execute_input": "2022-08-28T07:16:10.901500Z",
     "iopub.status.busy": "2022-08-28T07:16:10.900719Z",
     "iopub.status.idle": "2022-08-28T07:16:10.903937Z",
     "shell.execute_reply": "2022-08-28T07:16:10.903308Z",
     "shell.execute_reply.started": "2022-08-28T05:57:10.051920Z"
    },
    "papermill": {
     "duration": 0.044305,
     "end_time": "2022-08-28T07:16:10.904037",
     "exception": false,
     "start_time": "2022-08-28T07:16:10.859732",
     "status": "completed"
    },
    "tags": []
   },
   "outputs": [],
   "source": [
    "# validation set\n",
    "validation_data = TensorDataset(validation_inputs, validation_masks, validation_labels)\n",
    "validation_sampler = SequentialSampler(validation_data)\n",
    "validation_dataloader = DataLoader(validation_data, sampler=validation_sampler, batch_size=batch_size)"
   ]
  },
  {
   "cell_type": "code",
   "execution_count": 32,
   "metadata": {
    "execution": {
     "iopub.execute_input": "2022-08-28T07:16:10.983189Z",
     "iopub.status.busy": "2022-08-28T07:16:10.982224Z",
     "iopub.status.idle": "2022-08-28T07:16:10.986552Z",
     "shell.execute_reply": "2022-08-28T07:16:10.986112Z",
     "shell.execute_reply.started": "2022-08-28T05:58:05.090004Z"
    },
    "papermill": {
     "duration": 0.045799,
     "end_time": "2022-08-28T07:16:10.986644",
     "exception": false,
     "start_time": "2022-08-28T07:16:10.940845",
     "status": "completed"
    },
    "tags": []
   },
   "outputs": [
    {
     "data": {
      "text/plain": [
       "AdamW (\n",
       "Parameter Group 0\n",
       "    betas: (0.9, 0.999)\n",
       "    correct_bias: True\n",
       "    eps: 1e-08\n",
       "    lr: 6e-06\n",
       "    weight_decay: 0.0\n",
       ")"
      ]
     },
     "execution_count": 32,
     "metadata": {},
     "output_type": "execute_result"
    }
   ],
   "source": [
    "# 옵티마이져\n",
    "optimizer = AdamW(model.parameters(), lr = 6e-6, eps=1e-8)\n",
    "optimizer"
   ]
  },
  {
   "cell_type": "code",
   "execution_count": 33,
   "metadata": {
    "execution": {
     "iopub.execute_input": "2022-08-28T07:16:11.064772Z",
     "iopub.status.busy": "2022-08-28T07:16:11.064112Z",
     "iopub.status.idle": "2022-08-28T07:16:11.067163Z",
     "shell.execute_reply": "2022-08-28T07:16:11.066717Z",
     "shell.execute_reply.started": "2022-08-28T05:58:27.353301Z"
    },
    "papermill": {
     "duration": 0.042684,
     "end_time": "2022-08-28T07:16:11.067266",
     "exception": false,
     "start_time": "2022-08-28T07:16:11.024582",
     "status": "completed"
    },
    "tags": []
   },
   "outputs": [],
   "source": [
    "from transformers import get_linear_schedule_with_warmup"
   ]
  },
  {
   "cell_type": "code",
   "execution_count": 34,
   "metadata": {
    "execution": {
     "iopub.execute_input": "2022-08-28T07:16:11.144821Z",
     "iopub.status.busy": "2022-08-28T07:16:11.144117Z",
     "iopub.status.idle": "2022-08-28T07:16:11.147073Z",
     "shell.execute_reply": "2022-08-28T07:16:11.146525Z",
     "shell.execute_reply.started": "2022-08-28T05:59:57.482891Z"
    },
    "papermill": {
     "duration": 0.04341,
     "end_time": "2022-08-28T07:16:11.147170",
     "exception": false,
     "start_time": "2022-08-28T07:16:11.103760",
     "status": "completed"
    },
    "tags": []
   },
   "outputs": [],
   "source": [
    "epochs = 10\n",
    "total_steps = len(train_dataloader)*epochs\n",
    "\n",
    "# Create the learning rate scheduler.\n",
    "scheduler = get_linear_schedule_with_warmup(optimizer, \n",
    "                                            num_warmup_steps = 0, \n",
    "                                            num_training_steps = total_steps)"
   ]
  },
  {
   "cell_type": "code",
   "execution_count": 35,
   "metadata": {
    "execution": {
     "iopub.execute_input": "2022-08-28T07:16:11.226090Z",
     "iopub.status.busy": "2022-08-28T07:16:11.225381Z",
     "iopub.status.idle": "2022-08-28T07:16:11.228340Z",
     "shell.execute_reply": "2022-08-28T07:16:11.227759Z",
     "shell.execute_reply.started": "2022-08-28T06:40:21.620613Z"
    },
    "papermill": {
     "duration": 0.044111,
     "end_time": "2022-08-28T07:16:11.228437",
     "exception": false,
     "start_time": "2022-08-28T07:16:11.184326",
     "status": "completed"
    },
    "tags": []
   },
   "outputs": [],
   "source": [
    "def flat_accuarcy(preds, labels):\n",
    "    pred_flat = np.argmax(preds, axis=1).flatten()\n",
    "    labels_flat = labels.flatten()\n",
    "    return np.sum(pred_flat ==labels_flat) / len(labels_flat)"
   ]
  },
  {
   "cell_type": "code",
   "execution_count": 36,
   "metadata": {
    "execution": {
     "iopub.execute_input": "2022-08-28T07:16:11.305712Z",
     "iopub.status.busy": "2022-08-28T07:16:11.305180Z",
     "iopub.status.idle": "2022-08-28T07:16:11.309063Z",
     "shell.execute_reply": "2022-08-28T07:16:11.308616Z",
     "shell.execute_reply.started": "2022-08-28T06:02:36.931313Z"
    },
    "papermill": {
     "duration": 0.043827,
     "end_time": "2022-08-28T07:16:11.309164",
     "exception": false,
     "start_time": "2022-08-28T07:16:11.265337",
     "status": "completed"
    },
    "tags": []
   },
   "outputs": [],
   "source": [
    "import time\n",
    "import datetime\n",
    "import random"
   ]
  },
  {
   "cell_type": "code",
   "execution_count": 37,
   "metadata": {
    "execution": {
     "iopub.execute_input": "2022-08-28T07:16:11.386809Z",
     "iopub.status.busy": "2022-08-28T07:16:11.386155Z",
     "iopub.status.idle": "2022-08-28T07:16:11.388653Z",
     "shell.execute_reply": "2022-08-28T07:16:11.389070Z",
     "shell.execute_reply.started": "2022-08-28T06:02:31.174464Z"
    },
    "papermill": {
     "duration": 0.043985,
     "end_time": "2022-08-28T07:16:11.389194",
     "exception": false,
     "start_time": "2022-08-28T07:16:11.345209",
     "status": "completed"
    },
    "tags": []
   },
   "outputs": [],
   "source": [
    "def format_time(t):\n",
    "    t = int(round(t))\n",
    "    return str(datetime.timedelta(seconds =t))"
   ]
  },
  {
   "cell_type": "code",
   "execution_count": 38,
   "metadata": {
    "execution": {
     "iopub.execute_input": "2022-08-28T07:16:11.468146Z",
     "iopub.status.busy": "2022-08-28T07:16:11.467453Z",
     "iopub.status.idle": "2022-08-28T07:16:11.470066Z",
     "shell.execute_reply": "2022-08-28T07:16:11.470453Z",
     "shell.execute_reply.started": "2022-08-28T06:09:15.645743Z"
    },
    "papermill": {
     "duration": 0.043537,
     "end_time": "2022-08-28T07:16:11.470575",
     "exception": false,
     "start_time": "2022-08-28T07:16:11.427038",
     "status": "completed"
    },
    "tags": []
   },
   "outputs": [],
   "source": [
    "loss_values = []"
   ]
  },
  {
   "cell_type": "code",
   "execution_count": 39,
   "metadata": {
    "execution": {
     "iopub.execute_input": "2022-08-28T07:16:11.558722Z",
     "iopub.status.busy": "2022-08-28T07:16:11.553514Z",
     "iopub.status.idle": "2022-08-28T07:22:40.778517Z",
     "shell.execute_reply": "2022-08-28T07:22:40.778928Z",
     "shell.execute_reply.started": "2022-08-28T06:26:37.131009Z"
    },
    "papermill": {
     "duration": 389.270655,
     "end_time": "2022-08-28T07:22:40.779083",
     "exception": false,
     "start_time": "2022-08-28T07:16:11.508428",
     "status": "completed"
    },
    "tags": []
   },
   "outputs": [
    {
     "name": "stdout",
     "output_type": "stream",
     "text": [
      " \n",
      "=========== Epoch 1 / 10 ========\n",
      "training......\n",
      "  Batch    50  of    191.    Elapsed: 0:00:11.\n",
      "  Batch   100  of    191.    Elapsed: 0:00:21.\n",
      "  Batch   150  of    191.    Elapsed: 0:00:31.\n",
      "\n",
      "  Average training loss: 0.66\n",
      "  Training epoch took: 0:00:40\n",
      " \n",
      "=========== Epoch 2 / 10 ========\n",
      "training......\n",
      "  Batch    50  of    191.    Elapsed: 0:00:10.\n",
      "  Batch   100  of    191.    Elapsed: 0:00:20.\n",
      "  Batch   150  of    191.    Elapsed: 0:00:31.\n",
      "\n",
      "  Average training loss: 0.62\n",
      "  Training epoch took: 0:00:39\n",
      " \n",
      "=========== Epoch 3 / 10 ========\n",
      "training......\n",
      "  Batch    50  of    191.    Elapsed: 0:00:10.\n",
      "  Batch   100  of    191.    Elapsed: 0:00:20.\n",
      "  Batch   150  of    191.    Elapsed: 0:00:31.\n",
      "\n",
      "  Average training loss: 0.58\n",
      "  Training epoch took: 0:00:39\n",
      " \n",
      "=========== Epoch 4 / 10 ========\n",
      "training......\n",
      "  Batch    50  of    191.    Elapsed: 0:00:10.\n",
      "  Batch   100  of    191.    Elapsed: 0:00:20.\n",
      "  Batch   150  of    191.    Elapsed: 0:00:31.\n",
      "\n",
      "  Average training loss: 0.55\n",
      "  Training epoch took: 0:00:39\n",
      " \n",
      "=========== Epoch 5 / 10 ========\n",
      "training......\n",
      "  Batch    50  of    191.    Elapsed: 0:00:10.\n",
      "  Batch   100  of    191.    Elapsed: 0:00:20.\n",
      "  Batch   150  of    191.    Elapsed: 0:00:31.\n",
      "\n",
      "  Average training loss: 0.52\n",
      "  Training epoch took: 0:00:39\n",
      " \n",
      "=========== Epoch 6 / 10 ========\n",
      "training......\n",
      "  Batch    50  of    191.    Elapsed: 0:00:10.\n",
      "  Batch   100  of    191.    Elapsed: 0:00:20.\n",
      "  Batch   150  of    191.    Elapsed: 0:00:31.\n",
      "\n",
      "  Average training loss: 0.50\n",
      "  Training epoch took: 0:00:39\n",
      " \n",
      "=========== Epoch 7 / 10 ========\n",
      "training......\n",
      "  Batch    50  of    191.    Elapsed: 0:00:10.\n",
      "  Batch   100  of    191.    Elapsed: 0:00:20.\n",
      "  Batch   150  of    191.    Elapsed: 0:00:31.\n",
      "\n",
      "  Average training loss: 0.48\n",
      "  Training epoch took: 0:00:39\n",
      " \n",
      "=========== Epoch 8 / 10 ========\n",
      "training......\n",
      "  Batch    50  of    191.    Elapsed: 0:00:10.\n",
      "  Batch   100  of    191.    Elapsed: 0:00:20.\n",
      "  Batch   150  of    191.    Elapsed: 0:00:31.\n",
      "\n",
      "  Average training loss: 0.47\n",
      "  Training epoch took: 0:00:39\n",
      " \n",
      "=========== Epoch 9 / 10 ========\n",
      "training......\n",
      "  Batch    50  of    191.    Elapsed: 0:00:10.\n",
      "  Batch   100  of    191.    Elapsed: 0:00:20.\n",
      "  Batch   150  of    191.    Elapsed: 0:00:31.\n",
      "\n",
      "  Average training loss: 0.45\n",
      "  Training epoch took: 0:00:39\n",
      " \n",
      "=========== Epoch 10 / 10 ========\n",
      "training......\n",
      "  Batch    50  of    191.    Elapsed: 0:00:10.\n",
      "  Batch   100  of    191.    Elapsed: 0:00:20.\n",
      "  Batch   150  of    191.    Elapsed: 0:00:31.\n",
      "\n",
      "  Average training loss: 0.45\n",
      "  Training epoch took: 0:00:39\n",
      "\n",
      "Training complete!\n"
     ]
    }
   ],
   "source": [
    "for epoch_ in range(0, epochs):\n",
    "    print(\" \")\n",
    "    print(\"=========== Epoch {:} / {:} ========\".format(epoch_+1, epochs))\n",
    "    print(\"training......\")\n",
    "    \n",
    "    time_ = time.time()\n",
    "    \n",
    "    # loss 초기화\n",
    "    total_loss = 0\n",
    "    model.train()\n",
    "    \n",
    "    for step, batch in enumerate(train_dataloader):\n",
    "        if step % 50 == 0 and not step ==0:\n",
    "            elapsed= format_time(time.time() -time_)\n",
    "            print('  Batch {:>5,}  of  {:>5,}.    Elapsed: {:}.'.format(step, len(train_dataloader), elapsed))\n",
    "        \n",
    "        batch_inputs_ids = batch[0].to(device)\n",
    "        batch_input_mask = batch[1].to(device)\n",
    "        batch_labels = batch[2].to(device)\n",
    "        \n",
    "        model.zero_grad()\n",
    "        outputs = model(batch_inputs_ids,\n",
    "                       token_type_ids = None,\n",
    "                       attention_mask = batch_input_mask,\n",
    "                       labels=batch_labels)\n",
    "        loss = outputs[0]\n",
    "        total_loss +=loss.item()\n",
    "        loss.backward()\n",
    "        \n",
    "        \n",
    "        torch.nn.utils.clip_grad_norm_(model.parameters(), 1.0)\n",
    "        optimizer.step()\n",
    "        scheduler.step()\n",
    "        \n",
    "    avg_train_loss = total_loss / len(train_dataloader)\n",
    "    loss_values.append(avg_train_loss)\n",
    "    \n",
    "    print(\"\")    \n",
    "    print(\"  Average training loss: {0:.2f}\".format(avg_train_loss))\n",
    "    print(\"  Training epoch took: {:}\".format(format_time(time.time() - time_)))\n",
    "      \n",
    "print(\"\")\n",
    "print(\"Training complete!\")"
   ]
  },
  {
   "cell_type": "markdown",
   "metadata": {
    "papermill": {
     "duration": 0.045981,
     "end_time": "2022-08-28T07:22:40.872452",
     "exception": false,
     "start_time": "2022-08-28T07:22:40.826471",
     "status": "completed"
    },
    "tags": []
   },
   "source": [
    "# validation"
   ]
  },
  {
   "cell_type": "code",
   "execution_count": 40,
   "metadata": {
    "execution": {
     "iopub.execute_input": "2022-08-28T07:22:40.974216Z",
     "iopub.status.busy": "2022-08-28T07:22:40.973408Z",
     "iopub.status.idle": "2022-08-28T07:22:43.781826Z",
     "shell.execute_reply": "2022-08-28T07:22:43.780678Z",
     "shell.execute_reply.started": "2022-08-28T06:40:41.248705Z"
    },
    "papermill": {
     "duration": 2.863045,
     "end_time": "2022-08-28T07:22:43.781984",
     "exception": false,
     "start_time": "2022-08-28T07:22:40.918939",
     "status": "completed"
    },
    "tags": []
   },
   "outputs": [
    {
     "name": "stdout",
     "output_type": "stream",
     "text": [
      "검증...\n",
      "  Accuracy: 0.71\n",
      "  Validation took: 0:00:03\n"
     ]
    }
   ],
   "source": [
    "print('검증...')\n",
    "\n",
    "# 시간\n",
    "time_ = time.time()\n",
    "\n",
    "# 검증\n",
    "model.eval()\n",
    "\n",
    "preds = []\n",
    "true = []\n",
    "\n",
    "eval_loss, eval_accuracy = 0, 0\n",
    "nb_eval_steps, nb_eval_examples = 0, 0\n",
    "\n",
    "for batch in validation_dataloader:\n",
    "    batch = tuple(t.to(device) for t in batch)\n",
    "    b_input_ids, b_input_mask, b_labels = batch\n",
    "    \n",
    "    with torch.no_grad():        \n",
    "        outputs = model(b_input_ids, \n",
    "                        token_type_ids=None, \n",
    "                        attention_mask=b_input_mask)\n",
    "\n",
    "    logits = outputs[0]\n",
    "\n",
    "    # Move logits and labels to CPU\n",
    "    logits = logits.detach().cpu().numpy()\n",
    "    label_ids = b_labels.to('cpu').numpy()\n",
    "    \n",
    "    preds.append(logits)\n",
    "    true.append(label_ids)\n",
    "    \n",
    "    # 정확도\n",
    "    tmp_eval_accuracy = flat_accuarcy(logits, label_ids)\n",
    "    \n",
    "    # 전체 acc 축적\n",
    "    eval_accuracy += tmp_eval_accuracy\n",
    "\n",
    "    nb_eval_steps += 1\n",
    "\n",
    "print(\"  Accuracy: {0:.2f}\".format(eval_accuracy/nb_eval_steps))\n",
    "print(\"  Validation took: {:}\".format(format_time(time.time() - time_)))"
   ]
  },
  {
   "cell_type": "markdown",
   "metadata": {
    "papermill": {
     "duration": 0.046975,
     "end_time": "2022-08-28T07:22:43.876617",
     "exception": false,
     "start_time": "2022-08-28T07:22:43.829642",
     "status": "completed"
    },
    "tags": []
   },
   "source": [
    "# submission"
   ]
  },
  {
   "cell_type": "code",
   "execution_count": 41,
   "metadata": {
    "execution": {
     "iopub.execute_input": "2022-08-28T07:22:43.975672Z",
     "iopub.status.busy": "2022-08-28T07:22:43.975137Z",
     "iopub.status.idle": "2022-08-28T07:22:43.979103Z",
     "shell.execute_reply": "2022-08-28T07:22:43.978661Z",
     "shell.execute_reply.started": "2022-08-28T06:45:58.983122Z"
    },
    "papermill": {
     "duration": 0.05545,
     "end_time": "2022-08-28T07:22:43.979205",
     "exception": false,
     "start_time": "2022-08-28T07:22:43.923755",
     "status": "completed"
    },
    "tags": []
   },
   "outputs": [],
   "source": [
    "comments1= df_test.text.values"
   ]
  },
  {
   "cell_type": "code",
   "execution_count": 42,
   "metadata": {
    "execution": {
     "iopub.execute_input": "2022-08-28T07:22:44.102137Z",
     "iopub.status.busy": "2022-08-28T07:22:44.086864Z",
     "iopub.status.idle": "2022-08-28T07:22:46.418778Z",
     "shell.execute_reply": "2022-08-28T07:22:46.419531Z",
     "shell.execute_reply.started": "2022-08-28T06:46:11.673779Z"
    },
    "papermill": {
     "duration": 2.393307,
     "end_time": "2022-08-28T07:22:46.419710",
     "exception": false,
     "start_time": "2022-08-28T07:22:44.026403",
     "status": "completed"
    },
    "tags": []
   },
   "outputs": [],
   "source": [
    "indices1=tokenizer.batch_encode_plus(comments1,max_length=128,add_special_tokens=True, return_attention_mask=True,pad_to_max_length=True,truncation=True)\n",
    "input_ids1=indices1[\"input_ids\"]\n",
    "attention_masks1=indices1[\"attention_mask\"]\n",
    "\n",
    "prediction_inputs1= torch.tensor(input_ids1)\n",
    "prediction_masks1 = torch.tensor(attention_masks1)"
   ]
  },
  {
   "cell_type": "code",
   "execution_count": 43,
   "metadata": {
    "execution": {
     "iopub.execute_input": "2022-08-28T07:22:46.535070Z",
     "iopub.status.busy": "2022-08-28T07:22:46.534178Z",
     "iopub.status.idle": "2022-08-28T07:22:46.537292Z",
     "shell.execute_reply": "2022-08-28T07:22:46.536703Z",
     "shell.execute_reply.started": "2022-08-28T06:53:14.940216Z"
    },
    "papermill": {
     "duration": 0.054478,
     "end_time": "2022-08-28T07:22:46.537411",
     "exception": false,
     "start_time": "2022-08-28T07:22:46.482933",
     "status": "completed"
    },
    "tags": []
   },
   "outputs": [],
   "source": [
    "batch_size=  32"
   ]
  },
  {
   "cell_type": "code",
   "execution_count": 44,
   "metadata": {
    "execution": {
     "iopub.execute_input": "2022-08-28T07:22:46.637741Z",
     "iopub.status.busy": "2022-08-28T07:22:46.636780Z",
     "iopub.status.idle": "2022-08-28T07:22:46.639541Z",
     "shell.execute_reply": "2022-08-28T07:22:46.639091Z",
     "shell.execute_reply.started": "2022-08-28T06:54:00.432845Z"
    },
    "papermill": {
     "duration": 0.05525,
     "end_time": "2022-08-28T07:22:46.639638",
     "exception": false,
     "start_time": "2022-08-28T07:22:46.584388",
     "status": "completed"
    },
    "tags": []
   },
   "outputs": [],
   "source": [
    "prediction_data1 = TensorDataset(prediction_inputs1, prediction_masks1)\n",
    "prediction_sampler1 = SequentialSampler(prediction_data1)\n",
    "prediction_dataloader1 = DataLoader(prediction_data1, sampler=prediction_sampler1, batch_size=batch_size)"
   ]
  },
  {
   "cell_type": "code",
   "execution_count": 45,
   "metadata": {
    "execution": {
     "iopub.execute_input": "2022-08-28T07:22:46.743022Z",
     "iopub.status.busy": "2022-08-28T07:22:46.742230Z",
     "iopub.status.idle": "2022-08-28T07:22:58.690118Z",
     "shell.execute_reply": "2022-08-28T07:22:58.689484Z",
     "shell.execute_reply.started": "2022-08-28T06:55:37.295033Z"
    },
    "papermill": {
     "duration": 12.003673,
     "end_time": "2022-08-28T07:22:58.690242",
     "exception": false,
     "start_time": "2022-08-28T07:22:46.686569",
     "status": "completed"
    },
    "tags": []
   },
   "outputs": [
    {
     "name": "stdout",
     "output_type": "stream",
     "text": [
      "Predicting labels for 3,263 test sentences...\n"
     ]
    }
   ],
   "source": [
    "print('Predicting labels for {:,} test sentences...'.format(len(prediction_inputs1)))\n",
    "\n",
    "# Put model in evaluation mode\n",
    "model.eval()\n",
    "\n",
    "predictions = []\n",
    "\n",
    "for batch in prediction_dataloader1:\n",
    "    \n",
    "    batch = tuple(t.to(device) for t in batch)\n",
    "\n",
    "    b_input_ids1, b_input_mask1 = batch\n",
    "  \n",
    "    with torch.no_grad():\n",
    "        outputs1 = model(b_input_ids1, token_type_ids=None, \n",
    "                        attention_mask=b_input_mask1)\n",
    "\n",
    "        logits1 = outputs1[0]\n",
    "\n",
    "    logits1 = logits1.detach().cpu().numpy()\n",
    "    predictions.append(logits1)\n",
    "\n",
    "flat_predictions = [item for sublist in predictions for item in sublist]\n",
    "flat_predictions = np.argmax(flat_predictions, axis=1).flatten()"
   ]
  },
  {
   "cell_type": "code",
   "execution_count": 46,
   "metadata": {
    "execution": {
     "iopub.execute_input": "2022-08-28T07:22:58.790412Z",
     "iopub.status.busy": "2022-08-28T07:22:58.789620Z",
     "iopub.status.idle": "2022-08-28T07:22:58.793378Z",
     "shell.execute_reply": "2022-08-28T07:22:58.792939Z",
     "shell.execute_reply.started": "2022-08-28T07:08:44.031879Z"
    },
    "papermill": {
     "duration": 0.055372,
     "end_time": "2022-08-28T07:22:58.793489",
     "exception": false,
     "start_time": "2022-08-28T07:22:58.738117",
     "status": "completed"
    },
    "tags": []
   },
   "outputs": [
    {
     "data": {
      "text/plain": [
       "array([1, 0, 1, ..., 1, 0, 1])"
      ]
     },
     "execution_count": 46,
     "metadata": {},
     "output_type": "execute_result"
    }
   ],
   "source": [
    "flat_predictions"
   ]
  },
  {
   "cell_type": "code",
   "execution_count": 47,
   "metadata": {
    "execution": {
     "iopub.execute_input": "2022-08-28T07:22:58.903712Z",
     "iopub.status.busy": "2022-08-28T07:22:58.903186Z",
     "iopub.status.idle": "2022-08-28T07:22:58.917458Z",
     "shell.execute_reply": "2022-08-28T07:22:58.917006Z",
     "shell.execute_reply.started": "2022-08-28T07:09:10.080447Z"
    },
    "papermill": {
     "duration": 0.077197,
     "end_time": "2022-08-28T07:22:58.917564",
     "exception": false,
     "start_time": "2022-08-28T07:22:58.840367",
     "status": "completed"
    },
    "tags": []
   },
   "outputs": [],
   "source": [
    "sample_sub=pd.read_csv('../input/nlp-getting-started/sample_submission.csv')\n",
    "submit=pd.DataFrame({'id':sample_sub['id'].values.tolist(),'target':flat_predictions})"
   ]
  },
  {
   "cell_type": "code",
   "execution_count": 48,
   "metadata": {
    "execution": {
     "iopub.execute_input": "2022-08-28T07:22:59.021100Z",
     "iopub.status.busy": "2022-08-28T07:22:59.020218Z",
     "iopub.status.idle": "2022-08-28T07:22:59.024023Z",
     "shell.execute_reply": "2022-08-28T07:22:59.023598Z",
     "shell.execute_reply.started": "2022-08-28T07:09:13.325811Z"
    },
    "papermill": {
     "duration": 0.059288,
     "end_time": "2022-08-28T07:22:59.024123",
     "exception": false,
     "start_time": "2022-08-28T07:22:58.964835",
     "status": "completed"
    },
    "tags": []
   },
   "outputs": [
    {
     "data": {
      "text/html": [
       "<div>\n",
       "<style scoped>\n",
       "    .dataframe tbody tr th:only-of-type {\n",
       "        vertical-align: middle;\n",
       "    }\n",
       "\n",
       "    .dataframe tbody tr th {\n",
       "        vertical-align: top;\n",
       "    }\n",
       "\n",
       "    .dataframe thead th {\n",
       "        text-align: right;\n",
       "    }\n",
       "</style>\n",
       "<table border=\"1\" class=\"dataframe\">\n",
       "  <thead>\n",
       "    <tr style=\"text-align: right;\">\n",
       "      <th></th>\n",
       "      <th>id</th>\n",
       "      <th>target</th>\n",
       "    </tr>\n",
       "  </thead>\n",
       "  <tbody>\n",
       "    <tr>\n",
       "      <th>0</th>\n",
       "      <td>0</td>\n",
       "      <td>1</td>\n",
       "    </tr>\n",
       "    <tr>\n",
       "      <th>1</th>\n",
       "      <td>2</td>\n",
       "      <td>0</td>\n",
       "    </tr>\n",
       "    <tr>\n",
       "      <th>2</th>\n",
       "      <td>3</td>\n",
       "      <td>1</td>\n",
       "    </tr>\n",
       "    <tr>\n",
       "      <th>3</th>\n",
       "      <td>9</td>\n",
       "      <td>1</td>\n",
       "    </tr>\n",
       "    <tr>\n",
       "      <th>4</th>\n",
       "      <td>11</td>\n",
       "      <td>1</td>\n",
       "    </tr>\n",
       "    <tr>\n",
       "      <th>...</th>\n",
       "      <td>...</td>\n",
       "      <td>...</td>\n",
       "    </tr>\n",
       "    <tr>\n",
       "      <th>3258</th>\n",
       "      <td>10861</td>\n",
       "      <td>1</td>\n",
       "    </tr>\n",
       "    <tr>\n",
       "      <th>3259</th>\n",
       "      <td>10865</td>\n",
       "      <td>1</td>\n",
       "    </tr>\n",
       "    <tr>\n",
       "      <th>3260</th>\n",
       "      <td>10868</td>\n",
       "      <td>1</td>\n",
       "    </tr>\n",
       "    <tr>\n",
       "      <th>3261</th>\n",
       "      <td>10874</td>\n",
       "      <td>0</td>\n",
       "    </tr>\n",
       "    <tr>\n",
       "      <th>3262</th>\n",
       "      <td>10875</td>\n",
       "      <td>1</td>\n",
       "    </tr>\n",
       "  </tbody>\n",
       "</table>\n",
       "<p>3263 rows × 2 columns</p>\n",
       "</div>"
      ],
      "text/plain": [
       "         id  target\n",
       "0         0       1\n",
       "1         2       0\n",
       "2         3       1\n",
       "3         9       1\n",
       "4        11       1\n",
       "...     ...     ...\n",
       "3258  10861       1\n",
       "3259  10865       1\n",
       "3260  10868       1\n",
       "3261  10874       0\n",
       "3262  10875       1\n",
       "\n",
       "[3263 rows x 2 columns]"
      ]
     },
     "execution_count": 48,
     "metadata": {},
     "output_type": "execute_result"
    }
   ],
   "source": [
    "submit"
   ]
  },
  {
   "cell_type": "code",
   "execution_count": 49,
   "metadata": {
    "execution": {
     "iopub.execute_input": "2022-08-28T07:22:59.124848Z",
     "iopub.status.busy": "2022-08-28T07:22:59.124157Z",
     "iopub.status.idle": "2022-08-28T07:22:59.308402Z",
     "shell.execute_reply": "2022-08-28T07:22:59.307661Z"
    },
    "papermill": {
     "duration": 0.236387,
     "end_time": "2022-08-28T07:22:59.308556",
     "exception": false,
     "start_time": "2022-08-28T07:22:59.072169",
     "status": "completed"
    },
    "tags": []
   },
   "outputs": [],
   "source": [
    "submit.to_csv('submission.csv',index=False)"
   ]
  }
 ],
 "metadata": {
  "kernelspec": {
   "display_name": "Python 3",
   "language": "python",
   "name": "python3"
  },
  "language_info": {
   "codemirror_mode": {
    "name": "ipython",
    "version": 3
   },
   "file_extension": ".py",
   "mimetype": "text/x-python",
   "name": "python",
   "nbconvert_exporter": "python",
   "pygments_lexer": "ipython3",
   "version": "3.7.6"
  },
  "papermill": {
   "duration": 478.327496,
   "end_time": "2022-08-28T07:22:59.564434",
   "environment_variables": {},
   "exception": null,
   "input_path": "__notebook__.ipynb",
   "output_path": "__notebook__.ipynb",
   "parameters": {},
   "start_time": "2022-08-28T07:15:01.236938",
   "version": "2.1.0"
  },
  "widgets": {
   "application/vnd.jupyter.widget-state+json": {
    "state": {
     "001e1384327448809664d7ceffaed403": {
      "model_module": "@jupyter-widgets/base",
      "model_module_version": "1.2.0",
      "model_name": "LayoutModel",
      "state": {
       "_model_module": "@jupyter-widgets/base",
       "_model_module_version": "1.2.0",
       "_model_name": "LayoutModel",
       "_view_count": null,
       "_view_module": "@jupyter-widgets/base",
       "_view_module_version": "1.2.0",
       "_view_name": "LayoutView",
       "align_content": null,
       "align_items": null,
       "align_self": null,
       "border": null,
       "bottom": null,
       "display": null,
       "flex": null,
       "flex_flow": null,
       "grid_area": null,
       "grid_auto_columns": null,
       "grid_auto_flow": null,
       "grid_auto_rows": null,
       "grid_column": null,
       "grid_gap": null,
       "grid_row": null,
       "grid_template_areas": null,
       "grid_template_columns": null,
       "grid_template_rows": null,
       "height": null,
       "justify_content": null,
       "justify_items": null,
       "left": null,
       "margin": null,
       "max_height": null,
       "max_width": null,
       "min_height": null,
       "min_width": null,
       "object_fit": null,
       "object_position": null,
       "order": null,
       "overflow": null,
       "overflow_x": null,
       "overflow_y": null,
       "padding": null,
       "right": null,
       "top": null,
       "visibility": null,
       "width": null
      }
     },
     "140e832e31854dcd820b349db799ce3c": {
      "model_module": "@jupyter-widgets/controls",
      "model_module_version": "1.5.0",
      "model_name": "FloatProgressModel",
      "state": {
       "_dom_classes": [],
       "_model_module": "@jupyter-widgets/controls",
       "_model_module_version": "1.5.0",
       "_model_name": "FloatProgressModel",
       "_view_count": null,
       "_view_module": "@jupyter-widgets/controls",
       "_view_module_version": "1.5.0",
       "_view_name": "ProgressView",
       "bar_style": "success",
       "description": "Downloading: 100%",
       "description_tooltip": null,
       "layout": "IPY_MODEL_ad2642d501d04babae7bfe56ad25cbba",
       "max": 231508.0,
       "min": 0.0,
       "orientation": "horizontal",
       "style": "IPY_MODEL_9cf9ec6add854f9eb16ad5429a59bd47",
       "value": 231508.0
      }
     },
     "1ec594d68f7f4e0783afec2ac2d8bdea": {
      "model_module": "@jupyter-widgets/controls",
      "model_module_version": "1.5.0",
      "model_name": "ProgressStyleModel",
      "state": {
       "_model_module": "@jupyter-widgets/controls",
       "_model_module_version": "1.5.0",
       "_model_name": "ProgressStyleModel",
       "_view_count": null,
       "_view_module": "@jupyter-widgets/base",
       "_view_module_version": "1.2.0",
       "_view_name": "StyleView",
       "bar_color": null,
       "description_width": "initial"
      }
     },
     "210cd6e93419431b8109ff3f2496d4c8": {
      "model_module": "@jupyter-widgets/controls",
      "model_module_version": "1.5.0",
      "model_name": "HTMLModel",
      "state": {
       "_dom_classes": [],
       "_model_module": "@jupyter-widgets/controls",
       "_model_module_version": "1.5.0",
       "_model_name": "HTMLModel",
       "_view_count": null,
       "_view_module": "@jupyter-widgets/controls",
       "_view_module_version": "1.5.0",
       "_view_name": "HTMLView",
       "description": "",
       "description_tooltip": null,
       "layout": "IPY_MODEL_7bb9d8e7458d4202a6449aa9a2cb030e",
       "placeholder": "​",
       "style": "IPY_MODEL_50ccb72de2af47dd97c01e6427b9bfab",
       "value": " 232k/232k [00:00&lt;00:00, 2.11MB/s]"
      }
     },
     "2a07c87b5550408eb1dfbc750c6daf90": {
      "model_module": "@jupyter-widgets/controls",
      "model_module_version": "1.5.0",
      "model_name": "FloatProgressModel",
      "state": {
       "_dom_classes": [],
       "_model_module": "@jupyter-widgets/controls",
       "_model_module_version": "1.5.0",
       "_model_name": "FloatProgressModel",
       "_view_count": null,
       "_view_module": "@jupyter-widgets/controls",
       "_view_module_version": "1.5.0",
       "_view_name": "ProgressView",
       "bar_style": "success",
       "description": "Downloading: 100%",
       "description_tooltip": null,
       "layout": "IPY_MODEL_3fd75c7a355a46ef85d0d20b41fa9062",
       "max": 467.0,
       "min": 0.0,
       "orientation": "horizontal",
       "style": "IPY_MODEL_86886302629c45dbad8dd54284cf71a8",
       "value": 467.0
      }
     },
     "3fd75c7a355a46ef85d0d20b41fa9062": {
      "model_module": "@jupyter-widgets/base",
      "model_module_version": "1.2.0",
      "model_name": "LayoutModel",
      "state": {
       "_model_module": "@jupyter-widgets/base",
       "_model_module_version": "1.2.0",
       "_model_name": "LayoutModel",
       "_view_count": null,
       "_view_module": "@jupyter-widgets/base",
       "_view_module_version": "1.2.0",
       "_view_name": "LayoutView",
       "align_content": null,
       "align_items": null,
       "align_self": null,
       "border": null,
       "bottom": null,
       "display": null,
       "flex": null,
       "flex_flow": null,
       "grid_area": null,
       "grid_auto_columns": null,
       "grid_auto_flow": null,
       "grid_auto_rows": null,
       "grid_column": null,
       "grid_gap": null,
       "grid_row": null,
       "grid_template_areas": null,
       "grid_template_columns": null,
       "grid_template_rows": null,
       "height": null,
       "justify_content": null,
       "justify_items": null,
       "left": null,
       "margin": null,
       "max_height": null,
       "max_width": null,
       "min_height": null,
       "min_width": null,
       "object_fit": null,
       "object_position": null,
       "order": null,
       "overflow": null,
       "overflow_x": null,
       "overflow_y": null,
       "padding": null,
       "right": null,
       "top": null,
       "visibility": null,
       "width": null
      }
     },
     "4dfae3192f3f493a8d8779d931d53072": {
      "model_module": "@jupyter-widgets/controls",
      "model_module_version": "1.5.0",
      "model_name": "HBoxModel",
      "state": {
       "_dom_classes": [],
       "_model_module": "@jupyter-widgets/controls",
       "_model_module_version": "1.5.0",
       "_model_name": "HBoxModel",
       "_view_count": null,
       "_view_module": "@jupyter-widgets/controls",
       "_view_module_version": "1.5.0",
       "_view_name": "HBoxView",
       "box_style": "",
       "children": [
        "IPY_MODEL_2a07c87b5550408eb1dfbc750c6daf90",
        "IPY_MODEL_ee5d3df4d1124441a213d88f8c899dae"
       ],
       "layout": "IPY_MODEL_b0cc6a4a6f4a455fb8d05ed15da00f37"
      }
     },
     "50ccb72de2af47dd97c01e6427b9bfab": {
      "model_module": "@jupyter-widgets/controls",
      "model_module_version": "1.5.0",
      "model_name": "DescriptionStyleModel",
      "state": {
       "_model_module": "@jupyter-widgets/controls",
       "_model_module_version": "1.5.0",
       "_model_name": "DescriptionStyleModel",
       "_view_count": null,
       "_view_module": "@jupyter-widgets/base",
       "_view_module_version": "1.2.0",
       "_view_name": "StyleView",
       "description_width": ""
      }
     },
     "5a5d90ec6b4c462390efa23128e35776": {
      "model_module": "@jupyter-widgets/base",
      "model_module_version": "1.2.0",
      "model_name": "LayoutModel",
      "state": {
       "_model_module": "@jupyter-widgets/base",
       "_model_module_version": "1.2.0",
       "_model_name": "LayoutModel",
       "_view_count": null,
       "_view_module": "@jupyter-widgets/base",
       "_view_module_version": "1.2.0",
       "_view_name": "LayoutView",
       "align_content": null,
       "align_items": null,
       "align_self": null,
       "border": null,
       "bottom": null,
       "display": null,
       "flex": null,
       "flex_flow": null,
       "grid_area": null,
       "grid_auto_columns": null,
       "grid_auto_flow": null,
       "grid_auto_rows": null,
       "grid_column": null,
       "grid_gap": null,
       "grid_row": null,
       "grid_template_areas": null,
       "grid_template_columns": null,
       "grid_template_rows": null,
       "height": null,
       "justify_content": null,
       "justify_items": null,
       "left": null,
       "margin": null,
       "max_height": null,
       "max_width": null,
       "min_height": null,
       "min_width": null,
       "object_fit": null,
       "object_position": null,
       "order": null,
       "overflow": null,
       "overflow_x": null,
       "overflow_y": null,
       "padding": null,
       "right": null,
       "top": null,
       "visibility": null,
       "width": null
      }
     },
     "68c841b5def540d8a9f75a44331aa232": {
      "model_module": "@jupyter-widgets/controls",
      "model_module_version": "1.5.0",
      "model_name": "HTMLModel",
      "state": {
       "_dom_classes": [],
       "_model_module": "@jupyter-widgets/controls",
       "_model_module_version": "1.5.0",
       "_model_name": "HTMLModel",
       "_view_count": null,
       "_view_module": "@jupyter-widgets/controls",
       "_view_module_version": "1.5.0",
       "_view_name": "HTMLView",
       "description": "",
       "description_tooltip": null,
       "layout": "IPY_MODEL_fe0e9a1ec30b4e64b25e2fc978f03c61",
       "placeholder": "​",
       "style": "IPY_MODEL_91e72cdbc76b4b048465fec69e40cda8",
       "value": " 440M/440M [00:39&lt;00:00, 11.2MB/s]"
      }
     },
     "6b2dc70abc6540d2bdcafd05eef8b2f9": {
      "model_module": "@jupyter-widgets/controls",
      "model_module_version": "1.5.0",
      "model_name": "HBoxModel",
      "state": {
       "_dom_classes": [],
       "_model_module": "@jupyter-widgets/controls",
       "_model_module_version": "1.5.0",
       "_model_name": "HBoxModel",
       "_view_count": null,
       "_view_module": "@jupyter-widgets/controls",
       "_view_module_version": "1.5.0",
       "_view_name": "HBoxView",
       "box_style": "",
       "children": [
        "IPY_MODEL_140e832e31854dcd820b349db799ce3c",
        "IPY_MODEL_210cd6e93419431b8109ff3f2496d4c8"
       ],
       "layout": "IPY_MODEL_82beb9e04660403a9e811efa08881ea4"
      }
     },
     "7bb9d8e7458d4202a6449aa9a2cb030e": {
      "model_module": "@jupyter-widgets/base",
      "model_module_version": "1.2.0",
      "model_name": "LayoutModel",
      "state": {
       "_model_module": "@jupyter-widgets/base",
       "_model_module_version": "1.2.0",
       "_model_name": "LayoutModel",
       "_view_count": null,
       "_view_module": "@jupyter-widgets/base",
       "_view_module_version": "1.2.0",
       "_view_name": "LayoutView",
       "align_content": null,
       "align_items": null,
       "align_self": null,
       "border": null,
       "bottom": null,
       "display": null,
       "flex": null,
       "flex_flow": null,
       "grid_area": null,
       "grid_auto_columns": null,
       "grid_auto_flow": null,
       "grid_auto_rows": null,
       "grid_column": null,
       "grid_gap": null,
       "grid_row": null,
       "grid_template_areas": null,
       "grid_template_columns": null,
       "grid_template_rows": null,
       "height": null,
       "justify_content": null,
       "justify_items": null,
       "left": null,
       "margin": null,
       "max_height": null,
       "max_width": null,
       "min_height": null,
       "min_width": null,
       "object_fit": null,
       "object_position": null,
       "order": null,
       "overflow": null,
       "overflow_x": null,
       "overflow_y": null,
       "padding": null,
       "right": null,
       "top": null,
       "visibility": null,
       "width": null
      }
     },
     "82beb9e04660403a9e811efa08881ea4": {
      "model_module": "@jupyter-widgets/base",
      "model_module_version": "1.2.0",
      "model_name": "LayoutModel",
      "state": {
       "_model_module": "@jupyter-widgets/base",
       "_model_module_version": "1.2.0",
       "_model_name": "LayoutModel",
       "_view_count": null,
       "_view_module": "@jupyter-widgets/base",
       "_view_module_version": "1.2.0",
       "_view_name": "LayoutView",
       "align_content": null,
       "align_items": null,
       "align_self": null,
       "border": null,
       "bottom": null,
       "display": null,
       "flex": null,
       "flex_flow": null,
       "grid_area": null,
       "grid_auto_columns": null,
       "grid_auto_flow": null,
       "grid_auto_rows": null,
       "grid_column": null,
       "grid_gap": null,
       "grid_row": null,
       "grid_template_areas": null,
       "grid_template_columns": null,
       "grid_template_rows": null,
       "height": null,
       "justify_content": null,
       "justify_items": null,
       "left": null,
       "margin": null,
       "max_height": null,
       "max_width": null,
       "min_height": null,
       "min_width": null,
       "object_fit": null,
       "object_position": null,
       "order": null,
       "overflow": null,
       "overflow_x": null,
       "overflow_y": null,
       "padding": null,
       "right": null,
       "top": null,
       "visibility": null,
       "width": null
      }
     },
     "85d742bd336b47bf9f6625fec9506f61": {
      "model_module": "@jupyter-widgets/controls",
      "model_module_version": "1.5.0",
      "model_name": "DescriptionStyleModel",
      "state": {
       "_model_module": "@jupyter-widgets/controls",
       "_model_module_version": "1.5.0",
       "_model_name": "DescriptionStyleModel",
       "_view_count": null,
       "_view_module": "@jupyter-widgets/base",
       "_view_module_version": "1.2.0",
       "_view_name": "StyleView",
       "description_width": ""
      }
     },
     "85f681eefd97422782bc4dbb924b0e72": {
      "model_module": "@jupyter-widgets/base",
      "model_module_version": "1.2.0",
      "model_name": "LayoutModel",
      "state": {
       "_model_module": "@jupyter-widgets/base",
       "_model_module_version": "1.2.0",
       "_model_name": "LayoutModel",
       "_view_count": null,
       "_view_module": "@jupyter-widgets/base",
       "_view_module_version": "1.2.0",
       "_view_name": "LayoutView",
       "align_content": null,
       "align_items": null,
       "align_self": null,
       "border": null,
       "bottom": null,
       "display": null,
       "flex": null,
       "flex_flow": null,
       "grid_area": null,
       "grid_auto_columns": null,
       "grid_auto_flow": null,
       "grid_auto_rows": null,
       "grid_column": null,
       "grid_gap": null,
       "grid_row": null,
       "grid_template_areas": null,
       "grid_template_columns": null,
       "grid_template_rows": null,
       "height": null,
       "justify_content": null,
       "justify_items": null,
       "left": null,
       "margin": null,
       "max_height": null,
       "max_width": null,
       "min_height": null,
       "min_width": null,
       "object_fit": null,
       "object_position": null,
       "order": null,
       "overflow": null,
       "overflow_x": null,
       "overflow_y": null,
       "padding": null,
       "right": null,
       "top": null,
       "visibility": null,
       "width": null
      }
     },
     "86886302629c45dbad8dd54284cf71a8": {
      "model_module": "@jupyter-widgets/controls",
      "model_module_version": "1.5.0",
      "model_name": "ProgressStyleModel",
      "state": {
       "_model_module": "@jupyter-widgets/controls",
       "_model_module_version": "1.5.0",
       "_model_name": "ProgressStyleModel",
       "_view_count": null,
       "_view_module": "@jupyter-widgets/base",
       "_view_module_version": "1.2.0",
       "_view_name": "StyleView",
       "bar_color": null,
       "description_width": "initial"
      }
     },
     "91e72cdbc76b4b048465fec69e40cda8": {
      "model_module": "@jupyter-widgets/controls",
      "model_module_version": "1.5.0",
      "model_name": "DescriptionStyleModel",
      "state": {
       "_model_module": "@jupyter-widgets/controls",
       "_model_module_version": "1.5.0",
       "_model_name": "DescriptionStyleModel",
       "_view_count": null,
       "_view_module": "@jupyter-widgets/base",
       "_view_module_version": "1.2.0",
       "_view_name": "StyleView",
       "description_width": ""
      }
     },
     "9cf9ec6add854f9eb16ad5429a59bd47": {
      "model_module": "@jupyter-widgets/controls",
      "model_module_version": "1.5.0",
      "model_name": "ProgressStyleModel",
      "state": {
       "_model_module": "@jupyter-widgets/controls",
       "_model_module_version": "1.5.0",
       "_model_name": "ProgressStyleModel",
       "_view_count": null,
       "_view_module": "@jupyter-widgets/base",
       "_view_module_version": "1.2.0",
       "_view_name": "StyleView",
       "bar_color": null,
       "description_width": "initial"
      }
     },
     "ad2642d501d04babae7bfe56ad25cbba": {
      "model_module": "@jupyter-widgets/base",
      "model_module_version": "1.2.0",
      "model_name": "LayoutModel",
      "state": {
       "_model_module": "@jupyter-widgets/base",
       "_model_module_version": "1.2.0",
       "_model_name": "LayoutModel",
       "_view_count": null,
       "_view_module": "@jupyter-widgets/base",
       "_view_module_version": "1.2.0",
       "_view_name": "LayoutView",
       "align_content": null,
       "align_items": null,
       "align_self": null,
       "border": null,
       "bottom": null,
       "display": null,
       "flex": null,
       "flex_flow": null,
       "grid_area": null,
       "grid_auto_columns": null,
       "grid_auto_flow": null,
       "grid_auto_rows": null,
       "grid_column": null,
       "grid_gap": null,
       "grid_row": null,
       "grid_template_areas": null,
       "grid_template_columns": null,
       "grid_template_rows": null,
       "height": null,
       "justify_content": null,
       "justify_items": null,
       "left": null,
       "margin": null,
       "max_height": null,
       "max_width": null,
       "min_height": null,
       "min_width": null,
       "object_fit": null,
       "object_position": null,
       "order": null,
       "overflow": null,
       "overflow_x": null,
       "overflow_y": null,
       "padding": null,
       "right": null,
       "top": null,
       "visibility": null,
       "width": null
      }
     },
     "b0cc6a4a6f4a455fb8d05ed15da00f37": {
      "model_module": "@jupyter-widgets/base",
      "model_module_version": "1.2.0",
      "model_name": "LayoutModel",
      "state": {
       "_model_module": "@jupyter-widgets/base",
       "_model_module_version": "1.2.0",
       "_model_name": "LayoutModel",
       "_view_count": null,
       "_view_module": "@jupyter-widgets/base",
       "_view_module_version": "1.2.0",
       "_view_name": "LayoutView",
       "align_content": null,
       "align_items": null,
       "align_self": null,
       "border": null,
       "bottom": null,
       "display": null,
       "flex": null,
       "flex_flow": null,
       "grid_area": null,
       "grid_auto_columns": null,
       "grid_auto_flow": null,
       "grid_auto_rows": null,
       "grid_column": null,
       "grid_gap": null,
       "grid_row": null,
       "grid_template_areas": null,
       "grid_template_columns": null,
       "grid_template_rows": null,
       "height": null,
       "justify_content": null,
       "justify_items": null,
       "left": null,
       "margin": null,
       "max_height": null,
       "max_width": null,
       "min_height": null,
       "min_width": null,
       "object_fit": null,
       "object_position": null,
       "order": null,
       "overflow": null,
       "overflow_x": null,
       "overflow_y": null,
       "padding": null,
       "right": null,
       "top": null,
       "visibility": null,
       "width": null
      }
     },
     "c8eaf8bfc4924ad0b7145122f574083e": {
      "model_module": "@jupyter-widgets/controls",
      "model_module_version": "1.5.0",
      "model_name": "FloatProgressModel",
      "state": {
       "_dom_classes": [],
       "_model_module": "@jupyter-widgets/controls",
       "_model_module_version": "1.5.0",
       "_model_name": "FloatProgressModel",
       "_view_count": null,
       "_view_module": "@jupyter-widgets/controls",
       "_view_module_version": "1.5.0",
       "_view_name": "ProgressView",
       "bar_style": "success",
       "description": "Downloading: 100%",
       "description_tooltip": null,
       "layout": "IPY_MODEL_85f681eefd97422782bc4dbb924b0e72",
       "max": 440343552.0,
       "min": 0.0,
       "orientation": "horizontal",
       "style": "IPY_MODEL_1ec594d68f7f4e0783afec2ac2d8bdea",
       "value": 440343552.0
      }
     },
     "d75cf53163fc45b596c0855c5de8c140": {
      "model_module": "@jupyter-widgets/controls",
      "model_module_version": "1.5.0",
      "model_name": "HBoxModel",
      "state": {
       "_dom_classes": [],
       "_model_module": "@jupyter-widgets/controls",
       "_model_module_version": "1.5.0",
       "_model_name": "HBoxModel",
       "_view_count": null,
       "_view_module": "@jupyter-widgets/controls",
       "_view_module_version": "1.5.0",
       "_view_name": "HBoxView",
       "box_style": "",
       "children": [
        "IPY_MODEL_c8eaf8bfc4924ad0b7145122f574083e",
        "IPY_MODEL_68c841b5def540d8a9f75a44331aa232"
       ],
       "layout": "IPY_MODEL_5a5d90ec6b4c462390efa23128e35776"
      }
     },
     "ee5d3df4d1124441a213d88f8c899dae": {
      "model_module": "@jupyter-widgets/controls",
      "model_module_version": "1.5.0",
      "model_name": "HTMLModel",
      "state": {
       "_dom_classes": [],
       "_model_module": "@jupyter-widgets/controls",
       "_model_module_version": "1.5.0",
       "_model_name": "HTMLModel",
       "_view_count": null,
       "_view_module": "@jupyter-widgets/controls",
       "_view_module_version": "1.5.0",
       "_view_name": "HTMLView",
       "description": "",
       "description_tooltip": null,
       "layout": "IPY_MODEL_001e1384327448809664d7ceffaed403",
       "placeholder": "​",
       "style": "IPY_MODEL_85d742bd336b47bf9f6625fec9506f61",
       "value": " 467/467 [00:01&lt;00:00, 366B/s]"
      }
     },
     "fe0e9a1ec30b4e64b25e2fc978f03c61": {
      "model_module": "@jupyter-widgets/base",
      "model_module_version": "1.2.0",
      "model_name": "LayoutModel",
      "state": {
       "_model_module": "@jupyter-widgets/base",
       "_model_module_version": "1.2.0",
       "_model_name": "LayoutModel",
       "_view_count": null,
       "_view_module": "@jupyter-widgets/base",
       "_view_module_version": "1.2.0",
       "_view_name": "LayoutView",
       "align_content": null,
       "align_items": null,
       "align_self": null,
       "border": null,
       "bottom": null,
       "display": null,
       "flex": null,
       "flex_flow": null,
       "grid_area": null,
       "grid_auto_columns": null,
       "grid_auto_flow": null,
       "grid_auto_rows": null,
       "grid_column": null,
       "grid_gap": null,
       "grid_row": null,
       "grid_template_areas": null,
       "grid_template_columns": null,
       "grid_template_rows": null,
       "height": null,
       "justify_content": null,
       "justify_items": null,
       "left": null,
       "margin": null,
       "max_height": null,
       "max_width": null,
       "min_height": null,
       "min_width": null,
       "object_fit": null,
       "object_position": null,
       "order": null,
       "overflow": null,
       "overflow_x": null,
       "overflow_y": null,
       "padding": null,
       "right": null,
       "top": null,
       "visibility": null,
       "width": null
      }
     }
    },
    "version_major": 2,
    "version_minor": 0
   }
  }
 },
 "nbformat": 4,
 "nbformat_minor": 4
}
